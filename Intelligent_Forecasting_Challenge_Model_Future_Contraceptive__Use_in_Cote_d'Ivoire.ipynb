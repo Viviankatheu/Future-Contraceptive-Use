{
  "nbformat": 4,
  "nbformat_minor": 0,
  "metadata": {
    "colab": {
      "name": "Intelligent_Forecasting_Challenge: Model_Future_Contraceptive _Use_in_Cote_d'Ivoire",
      "provenance": [],
      "toc_visible": true,
      "include_colab_link": true
    },
    "kernelspec": {
      "name": "python3",
      "display_name": "Python 3"
    },
    "language_info": {
      "name": "python"
    }
  },
  "cells": [
    {
      "cell_type": "markdown",
      "metadata": {
        "id": "view-in-github",
        "colab_type": "text"
      },
      "source": [
        "<a href=\"https://colab.research.google.com/github/JChengecha/Future-Contraceptive-Use/blob/main/Intelligent_Forecasting_Challenge_Model_Future_Contraceptive__Use_in_Cote_d'Ivoire.ipynb\" target=\"_parent\"><img src=\"https://colab.research.google.com/assets/colab-badge.svg\" alt=\"Open In Colab\"/></a>"
      ]
    },
    {
      "cell_type": "markdown",
      "metadata": {
        "id": "ZEUId8p7D19B"
      },
      "source": [
        "# **INTELLIGENT FORECASTING CHALLENGE**"
      ]
    },
    {
      "cell_type": "markdown",
      "metadata": {
        "id": "QEjYGe6WC6wQ"
      },
      "source": [
        "## **DEFINING THE QUESTION**"
      ]
    },
    {
      "cell_type": "markdown",
      "metadata": {
        "id": "DWCLf3eTDN0G"
      },
      "source": [
        "### **SPECIFYING THE QUESTION**"
      ]
    },
    {
      "cell_type": "markdown",
      "metadata": {
        "id": "JZCmOIyzYycF"
      },
      "source": [
        "\n",
        "\n",
        "> We  are required to build a model that will effectively predict the use of contraceptives in Côte d'Ivoire.\n",
        "\n",
        "\n",
        "\n"
      ]
    },
    {
      "cell_type": "markdown",
      "metadata": {
        "id": "ACAnI7DyDT8B"
      },
      "source": [
        "### **DEFINING THE METRIC OF SUCCESS**"
      ]
    },
    {
      "cell_type": "markdown",
      "metadata": {
        "id": "-94VGV1M5_3G"
      },
      "source": [
        "\n",
        "> Our challenge is a regression problem. Therefore, our project will be considered a success if we're able to develop a model with the lowest error metric.\n",
        "\n"
      ]
    },
    {
      "cell_type": "markdown",
      "metadata": {
        "id": "Z3GU7q62DYkm"
      },
      "source": [
        "### **UNDERSTANDING THE CONTEXT**"
      ]
    },
    {
      "cell_type": "markdown",
      "metadata": {
        "id": "-N5jJMSyUQVN"
      },
      "source": [
        "> Contraceptive access is vital to safe motherhood, healthy families, and prosperous communities. Greater access to contraceptives enables couples and individuals to determine whether, when, and how often to have children. In low- and middle-income countries (LMIC) like Côte d'Ivoire, health systems are often unable to accurately predict the quantity of contraceptives necessary for each health service delivery site, in part due to insufficient data, limited staff capacity, and inadequate systems.\n",
        "\n",
        ">When too few supplies are ordered, service delivery sites may run out, limiting access to contraceptives and family planning. When too much product is ordered, unused contraceptives are wasted if they are left to expire.\n",
        "\n",
        ">Accurate forecasting of contraceptive consumption can save lives, money, and time by ensuring health service delivery sites have what they need when they need it and by reducing waste in the supply chain."
      ]
    },
    {
      "cell_type": "markdown",
      "metadata": {
        "id": "4FG-BEBwDnTl"
      },
      "source": [
        "### **RECORDING THE EXPERIMENTAL DESIGN**"
      ]
    },
    {
      "cell_type": "markdown",
      "metadata": {
        "id": "9nC400yWXBIw"
      },
      "source": [
        "* Import the relevant libraries that we will use in our analysis.\n",
        "* Read and explore the dataset we will use for our project.\n",
        "* Define the appropriateness of the available data with regards to the project\n",
        "* Find and deal with outliers and missing data within the dataset.\n",
        "* Perform univariate and bivariate analysis while recording our observations.\n",
        "* Implement the solution by using the various regression algorithms to predict the future consumption of contraceptives based on given information.\n",
        "* Challenge the solution by giving insights on how we can optimize the models to give us a better performance as compared to the baseline model.\n",
        "* Provide recommendations based on the whole analysis and modelling techniques used in the project."
      ]
    },
    {
      "cell_type": "markdown",
      "metadata": {
        "id": "Oe-krsejELof"
      },
      "source": [
        "### **DATA RELEVANCE**"
      ]
    },
    {
      "cell_type": "markdown",
      "metadata": {
        "id": "IDZSr4gfXvdD"
      },
      "source": [
        "> This was evaluated against the metric of success after solution implementation. Our main dataset is the **Train Dataset**.\n",
        "\n",
        "> The train dataset has the following columns:\n",
        "1. **year:**\tThe year of the observation\t\t\t\t\t\t\t\t\t\t\t\n",
        "2. **month:**\tThe month of the observation\t\t\t\t\t\t\t\t\t\t\t\n",
        "3. **region:**\tThe higher level geographical area within Côte d'Ivoire\n",
        "4. **district:**\tThe lower level geographical area within Côte d'Ivoire\n",
        "5. **site_code:**\tThe actual health service delivery site\t\t\t\t\t\n",
        "6. **product_code:**\tThe unique identifier for each commodity.\n",
        "7. **stock_initial:**\tStock in hand of previous period. This is quantified in dispensing units. \t\t\t\t\t\t\t\t\t\t\t\n",
        "8. **stock_received:**\tTotal quantity received in last period. This is quantified in dispensing units. \t\t\t\t\t\t\t\t\t\t\t\n",
        "9. **stock_distributed*:**\tQuantity dispensed/consumed in last reporting period. This is quantified in dispensing units. Note: This is the target variable. \t\t\t\t\t\t\t\t\t\t\t\n",
        "10. **stock_adjustment:**\tAll kinds of losses/ adjustments made at the facility\t\t\t\t\t\t\t\t\t\t\t\n",
        "11. **stock_end:**\tCurrent physical count of stock on hand. This is quantified in dispensing units.\t\t\t\t\t\t\t\t\t\t\t\n",
        "12. **average_monthly_consumption:**\t\"Average monthly consumption, for last three months. This is quantified in dispensing units. \n",
        "Note: Average monthly consumption in the system actually provides an average of the most recently available Normalized Consumption values. Normalized Consumption is the stock_distributed value adjusted to reflect any stock_stockout_days. Because months are approximated to have 30 days, one which had 15 stockout days would yield a Normalized Consumption of exactly twice its Monthly Consumption.\"\t\t\t\t\t\t\t\t\t\t\t\n",
        "13. **stock_stockout_days:**\tTotal number of days facility was out of stock.\t\t\t\t\t\t\t\t\t\t\t\n",
        "14. **stock_ordered:**\tThe requested quantity. This is quantified in dispensing units.\t\t\t\t\t\t\t\t\t\t\t\n",
        "\t\t\t\t\t\t\t\t\t\t\t\n"
      ]
    },
    {
      "cell_type": "markdown",
      "metadata": {
        "id": "aCflDAb8m6qd"
      },
      "source": [
        "## **EXTERNAL DATASOURCE VALIDATION**"
      ]
    },
    {
      "cell_type": "markdown",
      "metadata": {
        "id": "ueiG7jYQm9cF"
      },
      "source": [
        ""
      ]
    },
    {
      "cell_type": "markdown",
      "metadata": {
        "id": "9R3Rb9ChImVr"
      },
      "source": [
        "## **READING THE DATA**"
      ]
    },
    {
      "cell_type": "code",
      "metadata": {
        "id": "Glzco3RlX-Rj"
      },
      "source": [
        "#Importing required libraries\n",
        "import pandas as pd\n",
        "import numpy as np\n",
        "import matplotlib.pyplot as plt\n",
        "import seaborn as sns\n",
        "\n",
        "#Ignore warnings\n",
        "import warnings\n",
        "warnings.filterwarnings(\"ignore\")"
      ],
      "execution_count": null,
      "outputs": []
    },
    {
      "cell_type": "code",
      "metadata": {
        "id": "k3xl55f_YT2k"
      },
      "source": [
        "# READING OUR ANNUAL DATASET\n",
        "annual = pd.read_csv('contraceptive_case_data_annual.csv')\n",
        "\n",
        "# Reading our monthly\n",
        "monthly = pd.read_csv('monthly_cases.csv')\n",
        "\n",
        "# Reading service delivery site data\n",
        "site = pd.read_csv('service_delivery_site_data.csv')\n",
        "\n",
        "# Reading our Train dataset\n",
        "df = pd.read_csv('Train.csv')\n",
        "\n",
        "# Reading the product dataset\n",
        "prod = pd.read_csv('product.csv')"
      ],
      "execution_count": null,
      "outputs": []
    },
    {
      "cell_type": "markdown",
      "metadata": {
        "id": "pV1VrwpYnKyF"
      },
      "source": [
        "## **PREVIEWING THE DATA**"
      ]
    },
    {
      "cell_type": "code",
      "metadata": {
        "colab": {
          "base_uri": "https://localhost:8080/",
          "height": 223
        },
        "id": "npQxJpXHnbdn",
        "outputId": "9e4cf699-eec5-4056-c3ac-14ed411d9ecd"
      },
      "source": [
        "# Previewing our Annual dataset\n",
        "annual.head(5)"
      ],
      "execution_count": null,
      "outputs": [
        {
          "output_type": "execute_result",
          "data": {
            "text/html": [
              "<div>\n",
              "<style scoped>\n",
              "    .dataframe tbody tr th:only-of-type {\n",
              "        vertical-align: middle;\n",
              "    }\n",
              "\n",
              "    .dataframe tbody tr th {\n",
              "        vertical-align: top;\n",
              "    }\n",
              "\n",
              "    .dataframe thead th {\n",
              "        text-align: right;\n",
              "    }\n",
              "</style>\n",
              "<table border=\"1\" class=\"dataframe\">\n",
              "  <thead>\n",
              "    <tr style=\"text-align: right;\">\n",
              "      <th></th>\n",
              "      <th>district</th>\n",
              "      <th>year</th>\n",
              "      <th>implant_women_old</th>\n",
              "      <th>implant_women_new</th>\n",
              "      <th>injection2_women_old</th>\n",
              "      <th>injection2_women_new</th>\n",
              "      <th>injection3_women_old</th>\n",
              "      <th>injection3_women_new</th>\n",
              "      <th>pill_women_old</th>\n",
              "      <th>pill_women_new</th>\n",
              "      <th>iud_women_old</th>\n",
              "      <th>iud_women_new</th>\n",
              "      <th>iud_number_dispensed</th>\n",
              "      <th>implant_number_dispensed</th>\n",
              "      <th>injection2_number_dispensed</th>\n",
              "      <th>injection3_number_dispensed</th>\n",
              "      <th>pill_number_dispensed</th>\n",
              "      <th>iud_number_received</th>\n",
              "      <th>implant_number_received</th>\n",
              "      <th>injection2_number_received</th>\n",
              "      <th>injection3_number_received</th>\n",
              "      <th>pill_number_received</th>\n",
              "      <th>iud_stock_end</th>\n",
              "      <th>implant_stock_end</th>\n",
              "      <th>injection2_stock_end</th>\n",
              "      <th>injection3_stock_end</th>\n",
              "      <th>pill_stock_end</th>\n",
              "    </tr>\n",
              "  </thead>\n",
              "  <tbody>\n",
              "    <tr>\n",
              "      <th>0</th>\n",
              "      <td>ABENGOUROU</td>\n",
              "      <td>2018</td>\n",
              "      <td>3298.0</td>\n",
              "      <td>965.0</td>\n",
              "      <td>2997.0</td>\n",
              "      <td>749.0</td>\n",
              "      <td>10892</td>\n",
              "      <td>2609</td>\n",
              "      <td>1867.0</td>\n",
              "      <td>425.0</td>\n",
              "      <td>117.0</td>\n",
              "      <td>15.0</td>\n",
              "      <td>26.0</td>\n",
              "      <td>823.0</td>\n",
              "      <td>3681.0</td>\n",
              "      <td>7082.0</td>\n",
              "      <td>6893.0</td>\n",
              "      <td>673.0</td>\n",
              "      <td>2435.0</td>\n",
              "      <td>8799.0</td>\n",
              "      <td>12890.0</td>\n",
              "      <td>35961.0</td>\n",
              "      <td>NaN</td>\n",
              "      <td>3167.0</td>\n",
              "      <td>NaN</td>\n",
              "      <td>16041.0</td>\n",
              "      <td>48097.0</td>\n",
              "    </tr>\n",
              "    <tr>\n",
              "      <th>1</th>\n",
              "      <td>ABENGOUROU</td>\n",
              "      <td>2017</td>\n",
              "      <td>2597.0</td>\n",
              "      <td>698.0</td>\n",
              "      <td>2125.0</td>\n",
              "      <td>588.0</td>\n",
              "      <td>9939</td>\n",
              "      <td>2480</td>\n",
              "      <td>1835.0</td>\n",
              "      <td>400.0</td>\n",
              "      <td>34.0</td>\n",
              "      <td>22.0</td>\n",
              "      <td>15.0</td>\n",
              "      <td>483.0</td>\n",
              "      <td>2894.0</td>\n",
              "      <td>6460.0</td>\n",
              "      <td>6339.0</td>\n",
              "      <td>544.0</td>\n",
              "      <td>1760.0</td>\n",
              "      <td>9920.0</td>\n",
              "      <td>12727.0</td>\n",
              "      <td>31260.0</td>\n",
              "      <td>NaN</td>\n",
              "      <td>2617.0</td>\n",
              "      <td>NaN</td>\n",
              "      <td>16403.0</td>\n",
              "      <td>41079.0</td>\n",
              "    </tr>\n",
              "    <tr>\n",
              "      <th>2</th>\n",
              "      <td>ABENGOUROU</td>\n",
              "      <td>2016</td>\n",
              "      <td>865.0</td>\n",
              "      <td>408.0</td>\n",
              "      <td>2616.0</td>\n",
              "      <td>786.0</td>\n",
              "      <td>8407</td>\n",
              "      <td>2440</td>\n",
              "      <td>2675.0</td>\n",
              "      <td>439.0</td>\n",
              "      <td>20.0</td>\n",
              "      <td>24.0</td>\n",
              "      <td>19.0</td>\n",
              "      <td>438.0</td>\n",
              "      <td>3167.0</td>\n",
              "      <td>5394.0</td>\n",
              "      <td>5982.0</td>\n",
              "      <td>436.0</td>\n",
              "      <td>1503.0</td>\n",
              "      <td>11407.0</td>\n",
              "      <td>12666.0</td>\n",
              "      <td>28256.0</td>\n",
              "      <td>NaN</td>\n",
              "      <td>1671.0</td>\n",
              "      <td>NaN</td>\n",
              "      <td>8561.0</td>\n",
              "      <td>20878.0</td>\n",
              "    </tr>\n",
              "    <tr>\n",
              "      <th>3</th>\n",
              "      <td>ABOBO EST</td>\n",
              "      <td>2018</td>\n",
              "      <td>4041.0</td>\n",
              "      <td>2234.0</td>\n",
              "      <td>2200.0</td>\n",
              "      <td>583.0</td>\n",
              "      <td>13504</td>\n",
              "      <td>3940</td>\n",
              "      <td>2959.0</td>\n",
              "      <td>673.0</td>\n",
              "      <td>383.0</td>\n",
              "      <td>180.0</td>\n",
              "      <td>155.0</td>\n",
              "      <td>2372.0</td>\n",
              "      <td>878.0</td>\n",
              "      <td>9512.0</td>\n",
              "      <td>5234.0</td>\n",
              "      <td>1154.0</td>\n",
              "      <td>3309.0</td>\n",
              "      <td>2241.0</td>\n",
              "      <td>9914.0</td>\n",
              "      <td>7426.0</td>\n",
              "      <td>NaN</td>\n",
              "      <td>3092.0</td>\n",
              "      <td>NaN</td>\n",
              "      <td>9359.0</td>\n",
              "      <td>9046.0</td>\n",
              "    </tr>\n",
              "    <tr>\n",
              "      <th>4</th>\n",
              "      <td>ABOBO EST</td>\n",
              "      <td>2017</td>\n",
              "      <td>1954.0</td>\n",
              "      <td>2491.0</td>\n",
              "      <td>1768.0</td>\n",
              "      <td>214.0</td>\n",
              "      <td>10745</td>\n",
              "      <td>2389</td>\n",
              "      <td>3506.0</td>\n",
              "      <td>679.0</td>\n",
              "      <td>147.0</td>\n",
              "      <td>259.0</td>\n",
              "      <td>258.0</td>\n",
              "      <td>3066.0</td>\n",
              "      <td>1805.0</td>\n",
              "      <td>8939.0</td>\n",
              "      <td>6957.0</td>\n",
              "      <td>2780.0</td>\n",
              "      <td>4009.0</td>\n",
              "      <td>5846.0</td>\n",
              "      <td>11784.0</td>\n",
              "      <td>13191.0</td>\n",
              "      <td>NaN</td>\n",
              "      <td>2596.0</td>\n",
              "      <td>NaN</td>\n",
              "      <td>6359.0</td>\n",
              "      <td>11711.0</td>\n",
              "    </tr>\n",
              "  </tbody>\n",
              "</table>\n",
              "</div>"
            ],
            "text/plain": [
              "     district  year  ...  injection3_stock_end  pill_stock_end\n",
              "0  ABENGOUROU  2018  ...               16041.0         48097.0\n",
              "1  ABENGOUROU  2017  ...               16403.0         41079.0\n",
              "2  ABENGOUROU  2016  ...                8561.0         20878.0\n",
              "3   ABOBO EST  2018  ...                9359.0          9046.0\n",
              "4   ABOBO EST  2017  ...                6359.0         11711.0\n",
              "\n",
              "[5 rows x 27 columns]"
            ]
          },
          "metadata": {
            "tags": []
          },
          "execution_count": 38
        }
      ]
    },
    {
      "cell_type": "code",
      "metadata": {
        "colab": {
          "base_uri": "https://localhost:8080/",
          "height": 223
        },
        "id": "RJWy61C2UWhK",
        "outputId": "7777c010-33c0-420f-8622-f84f0d1814ed"
      },
      "source": [
        "# Previewing the monthly dataset\n",
        "monthly.head(5)"
      ],
      "execution_count": null,
      "outputs": [
        {
          "output_type": "execute_result",
          "data": {
            "text/html": [
              "<div>\n",
              "<style scoped>\n",
              "    .dataframe tbody tr th:only-of-type {\n",
              "        vertical-align: middle;\n",
              "    }\n",
              "\n",
              "    .dataframe tbody tr th {\n",
              "        vertical-align: top;\n",
              "    }\n",
              "\n",
              "    .dataframe thead th {\n",
              "        text-align: right;\n",
              "    }\n",
              "</style>\n",
              "<table border=\"1\" class=\"dataframe\">\n",
              "  <thead>\n",
              "    <tr style=\"text-align: right;\">\n",
              "      <th></th>\n",
              "      <th>district</th>\n",
              "      <th>month</th>\n",
              "      <th>year</th>\n",
              "      <th>implant_women_old</th>\n",
              "      <th>implant_women_new</th>\n",
              "      <th>injection2_women_old</th>\n",
              "      <th>injection2_women_new</th>\n",
              "      <th>injection3_women_old</th>\n",
              "      <th>injection3_women_new</th>\n",
              "      <th>pill_women_old</th>\n",
              "      <th>pill_women_new</th>\n",
              "      <th>iud_women_old</th>\n",
              "      <th>iud_women_new</th>\n",
              "      <th>iud_number_dispensed</th>\n",
              "      <th>implant_number_dispensed</th>\n",
              "      <th>injection2_number_dispensed</th>\n",
              "      <th>injection3_number_dispensed</th>\n",
              "      <th>pill_number_dispensed</th>\n",
              "      <th>iud_number_received</th>\n",
              "      <th>implant_number_received</th>\n",
              "      <th>injection2_number_received</th>\n",
              "      <th>injection3_number_received</th>\n",
              "      <th>pill_number_received</th>\n",
              "      <th>iud_stock_end</th>\n",
              "      <th>implant_stock_end</th>\n",
              "      <th>injection2_stock_end</th>\n",
              "      <th>injection3_stock_end</th>\n",
              "      <th>pill_stock_end</th>\n",
              "    </tr>\n",
              "  </thead>\n",
              "  <tbody>\n",
              "    <tr>\n",
              "      <th>0</th>\n",
              "      <td>ABENGOUROU</td>\n",
              "      <td>1</td>\n",
              "      <td>2019</td>\n",
              "      <td>478.0</td>\n",
              "      <td>91.0</td>\n",
              "      <td>103.0</td>\n",
              "      <td>17.0</td>\n",
              "      <td>1278</td>\n",
              "      <td>296</td>\n",
              "      <td>195.0</td>\n",
              "      <td>34.0</td>\n",
              "      <td>NaN</td>\n",
              "      <td>NaN</td>\n",
              "      <td>NaN</td>\n",
              "      <td>75.0</td>\n",
              "      <td>44.0</td>\n",
              "      <td>1082.0</td>\n",
              "      <td>2542.0</td>\n",
              "      <td>NaN</td>\n",
              "      <td>319.0</td>\n",
              "      <td>33.0</td>\n",
              "      <td>1244.0</td>\n",
              "      <td>2846.0</td>\n",
              "      <td>NaN</td>\n",
              "      <td>422.0</td>\n",
              "      <td>NaN</td>\n",
              "      <td>1501.0</td>\n",
              "      <td>3466.0</td>\n",
              "    </tr>\n",
              "    <tr>\n",
              "      <th>1</th>\n",
              "      <td>ABENGOUROU</td>\n",
              "      <td>2</td>\n",
              "      <td>2019</td>\n",
              "      <td>340.0</td>\n",
              "      <td>81.0</td>\n",
              "      <td>126.0</td>\n",
              "      <td>10.0</td>\n",
              "      <td>1237</td>\n",
              "      <td>253</td>\n",
              "      <td>187.0</td>\n",
              "      <td>19.0</td>\n",
              "      <td>9.0</td>\n",
              "      <td>1.0</td>\n",
              "      <td>1.0</td>\n",
              "      <td>66.0</td>\n",
              "      <td>38.0</td>\n",
              "      <td>813.0</td>\n",
              "      <td>557.0</td>\n",
              "      <td>20.0</td>\n",
              "      <td>255.0</td>\n",
              "      <td>17.0</td>\n",
              "      <td>1174.0</td>\n",
              "      <td>2608.0</td>\n",
              "      <td>NaN</td>\n",
              "      <td>394.0</td>\n",
              "      <td>NaN</td>\n",
              "      <td>1535.0</td>\n",
              "      <td>3327.0</td>\n",
              "    </tr>\n",
              "    <tr>\n",
              "      <th>2</th>\n",
              "      <td>ABENGOUROU</td>\n",
              "      <td>3</td>\n",
              "      <td>2019</td>\n",
              "      <td>367.0</td>\n",
              "      <td>59.0</td>\n",
              "      <td>14.0</td>\n",
              "      <td>7.0</td>\n",
              "      <td>1300</td>\n",
              "      <td>224</td>\n",
              "      <td>147.0</td>\n",
              "      <td>26.0</td>\n",
              "      <td>NaN</td>\n",
              "      <td>5.0</td>\n",
              "      <td>5.0</td>\n",
              "      <td>47.0</td>\n",
              "      <td>42.0</td>\n",
              "      <td>819.0</td>\n",
              "      <td>665.0</td>\n",
              "      <td>50.0</td>\n",
              "      <td>214.0</td>\n",
              "      <td>50.0</td>\n",
              "      <td>1050.0</td>\n",
              "      <td>2148.0</td>\n",
              "      <td>NaN</td>\n",
              "      <td>340.0</td>\n",
              "      <td>NaN</td>\n",
              "      <td>1187.0</td>\n",
              "      <td>3636.0</td>\n",
              "    </tr>\n",
              "    <tr>\n",
              "      <th>3</th>\n",
              "      <td>ABENGOUROU</td>\n",
              "      <td>4</td>\n",
              "      <td>2019</td>\n",
              "      <td>583.0</td>\n",
              "      <td>46.0</td>\n",
              "      <td>6.0</td>\n",
              "      <td>1.0</td>\n",
              "      <td>1296</td>\n",
              "      <td>336</td>\n",
              "      <td>200.0</td>\n",
              "      <td>35.0</td>\n",
              "      <td>NaN</td>\n",
              "      <td>3.0</td>\n",
              "      <td>1.0</td>\n",
              "      <td>36.0</td>\n",
              "      <td>66.0</td>\n",
              "      <td>874.0</td>\n",
              "      <td>404.0</td>\n",
              "      <td>45.0</td>\n",
              "      <td>217.0</td>\n",
              "      <td>55.0</td>\n",
              "      <td>824.0</td>\n",
              "      <td>1787.0</td>\n",
              "      <td>NaN</td>\n",
              "      <td>340.0</td>\n",
              "      <td>NaN</td>\n",
              "      <td>889.0</td>\n",
              "      <td>2727.0</td>\n",
              "    </tr>\n",
              "    <tr>\n",
              "      <th>4</th>\n",
              "      <td>ABENGOUROU</td>\n",
              "      <td>5</td>\n",
              "      <td>2019</td>\n",
              "      <td>407.0</td>\n",
              "      <td>60.0</td>\n",
              "      <td>46.0</td>\n",
              "      <td>20.0</td>\n",
              "      <td>1356</td>\n",
              "      <td>281</td>\n",
              "      <td>156.0</td>\n",
              "      <td>24.0</td>\n",
              "      <td>NaN</td>\n",
              "      <td>1.0</td>\n",
              "      <td>1.0</td>\n",
              "      <td>71.0</td>\n",
              "      <td>47.0</td>\n",
              "      <td>813.0</td>\n",
              "      <td>545.0</td>\n",
              "      <td>14.0</td>\n",
              "      <td>321.0</td>\n",
              "      <td>256.0</td>\n",
              "      <td>1032.0</td>\n",
              "      <td>1635.0</td>\n",
              "      <td>NaN</td>\n",
              "      <td>355.0</td>\n",
              "      <td>NaN</td>\n",
              "      <td>604.0</td>\n",
              "      <td>1668.0</td>\n",
              "    </tr>\n",
              "  </tbody>\n",
              "</table>\n",
              "</div>"
            ],
            "text/plain": [
              "     district  month  ...  injection3_stock_end  pill_stock_end\n",
              "0  ABENGOUROU      1  ...                1501.0          3466.0\n",
              "1  ABENGOUROU      2  ...                1535.0          3327.0\n",
              "2  ABENGOUROU      3  ...                1187.0          3636.0\n",
              "3  ABENGOUROU      4  ...                 889.0          2727.0\n",
              "4  ABENGOUROU      5  ...                 604.0          1668.0\n",
              "\n",
              "[5 rows x 28 columns]"
            ]
          },
          "metadata": {
            "tags": []
          },
          "execution_count": 39
        }
      ]
    },
    {
      "cell_type": "code",
      "metadata": {
        "colab": {
          "base_uri": "https://localhost:8080/",
          "height": 203
        },
        "id": "zCBhwcxMUldy",
        "outputId": "9e52e4a4-ff44-4322-fc6a-fa07b0edc6df"
      },
      "source": [
        "# Previewing the site dataset\n",
        "site.head(5)"
      ],
      "execution_count": null,
      "outputs": [
        {
          "output_type": "execute_result",
          "data": {
            "text/html": [
              "<div>\n",
              "<style scoped>\n",
              "    .dataframe tbody tr th:only-of-type {\n",
              "        vertical-align: middle;\n",
              "    }\n",
              "\n",
              "    .dataframe tbody tr th {\n",
              "        vertical-align: top;\n",
              "    }\n",
              "\n",
              "    .dataframe thead th {\n",
              "        text-align: right;\n",
              "    }\n",
              "</style>\n",
              "<table border=\"1\" class=\"dataframe\">\n",
              "  <thead>\n",
              "    <tr style=\"text-align: right;\">\n",
              "      <th></th>\n",
              "      <th>site_code</th>\n",
              "      <th>site_type</th>\n",
              "      <th>site_region</th>\n",
              "      <th>site_district</th>\n",
              "      <th>site_latitude</th>\n",
              "      <th>site_longitude</th>\n",
              "    </tr>\n",
              "  </thead>\n",
              "  <tbody>\n",
              "    <tr>\n",
              "      <th>0</th>\n",
              "      <td>C1399</td>\n",
              "      <td>Health Center</td>\n",
              "      <td>ABIDJAN 2</td>\n",
              "      <td>COCODY-BINGERVILLE</td>\n",
              "      <td>5.352721</td>\n",
              "      <td>-3.940210</td>\n",
              "    </tr>\n",
              "    <tr>\n",
              "      <th>1</th>\n",
              "      <td>C4001</td>\n",
              "      <td>Hospital</td>\n",
              "      <td>INDENIE-DJUABLIN</td>\n",
              "      <td>ABENGOUROU</td>\n",
              "      <td>6.730937</td>\n",
              "      <td>-3.483863</td>\n",
              "    </tr>\n",
              "    <tr>\n",
              "      <th>2</th>\n",
              "      <td>C1004</td>\n",
              "      <td>Hospital</td>\n",
              "      <td>AGNEBY-TIASSA-ME</td>\n",
              "      <td>AGBOVILLE</td>\n",
              "      <td>5.928340</td>\n",
              "      <td>-4.211450</td>\n",
              "    </tr>\n",
              "    <tr>\n",
              "      <th>3</th>\n",
              "      <td>C4002</td>\n",
              "      <td>Hospital</td>\n",
              "      <td>BOUNKANI-GONTOUGO</td>\n",
              "      <td>BONDOUKOU</td>\n",
              "      <td>8.041860</td>\n",
              "      <td>-2.798370</td>\n",
              "    </tr>\n",
              "    <tr>\n",
              "      <th>4</th>\n",
              "      <td>C2002</td>\n",
              "      <td>Hospital</td>\n",
              "      <td>MARAHOUE</td>\n",
              "      <td>BOUAFLE</td>\n",
              "      <td>6.984120</td>\n",
              "      <td>-5.751980</td>\n",
              "    </tr>\n",
              "  </tbody>\n",
              "</table>\n",
              "</div>"
            ],
            "text/plain": [
              "  site_code      site_type  ... site_latitude site_longitude\n",
              "0     C1399  Health Center  ...      5.352721      -3.940210\n",
              "1     C4001       Hospital  ...      6.730937      -3.483863\n",
              "2     C1004       Hospital  ...      5.928340      -4.211450\n",
              "3     C4002       Hospital  ...      8.041860      -2.798370\n",
              "4     C2002       Hospital  ...      6.984120      -5.751980\n",
              "\n",
              "[5 rows x 6 columns]"
            ]
          },
          "metadata": {
            "tags": []
          },
          "execution_count": 40
        }
      ]
    },
    {
      "cell_type": "code",
      "metadata": {
        "id": "sjyRxbujs9lv",
        "colab": {
          "base_uri": "https://localhost:8080/",
          "height": 307
        },
        "outputId": "b7154362-cdbe-4513-8289-a6d7a2c1f6ab"
      },
      "source": [
        "# Previewing our Train dataset\n",
        "df.head(5)"
      ],
      "execution_count": null,
      "outputs": [
        {
          "output_type": "execute_result",
          "data": {
            "text/html": [
              "<div>\n",
              "<style scoped>\n",
              "    .dataframe tbody tr th:only-of-type {\n",
              "        vertical-align: middle;\n",
              "    }\n",
              "\n",
              "    .dataframe tbody tr th {\n",
              "        vertical-align: top;\n",
              "    }\n",
              "\n",
              "    .dataframe thead th {\n",
              "        text-align: right;\n",
              "    }\n",
              "</style>\n",
              "<table border=\"1\" class=\"dataframe\">\n",
              "  <thead>\n",
              "    <tr style=\"text-align: right;\">\n",
              "      <th></th>\n",
              "      <th>year</th>\n",
              "      <th>month</th>\n",
              "      <th>region</th>\n",
              "      <th>district</th>\n",
              "      <th>site_code</th>\n",
              "      <th>product_code</th>\n",
              "      <th>stock_initial</th>\n",
              "      <th>stock_received</th>\n",
              "      <th>stock_distributed</th>\n",
              "      <th>stock_adjustment</th>\n",
              "      <th>stock_end</th>\n",
              "      <th>average_monthly_consumption</th>\n",
              "      <th>stock_stockout_days</th>\n",
              "      <th>stock_ordered</th>\n",
              "    </tr>\n",
              "  </thead>\n",
              "  <tbody>\n",
              "    <tr>\n",
              "      <th>0</th>\n",
              "      <td>2019</td>\n",
              "      <td>1</td>\n",
              "      <td>INDENIE-DJUABLIN</td>\n",
              "      <td>ABENGOUROU</td>\n",
              "      <td>C4001</td>\n",
              "      <td>AS27134</td>\n",
              "      <td>75</td>\n",
              "      <td>0</td>\n",
              "      <td>21</td>\n",
              "      <td>-54</td>\n",
              "      <td>0</td>\n",
              "      <td>18</td>\n",
              "      <td>0</td>\n",
              "      <td>100.0</td>\n",
              "    </tr>\n",
              "    <tr>\n",
              "      <th>1</th>\n",
              "      <td>2019</td>\n",
              "      <td>1</td>\n",
              "      <td>INDENIE-DJUABLIN</td>\n",
              "      <td>ABENGOUROU</td>\n",
              "      <td>C4001</td>\n",
              "      <td>AS27132</td>\n",
              "      <td>3</td>\n",
              "      <td>0</td>\n",
              "      <td>3</td>\n",
              "      <td>0</td>\n",
              "      <td>0</td>\n",
              "      <td>2</td>\n",
              "      <td>0</td>\n",
              "      <td>10.0</td>\n",
              "    </tr>\n",
              "    <tr>\n",
              "      <th>2</th>\n",
              "      <td>2019</td>\n",
              "      <td>1</td>\n",
              "      <td>INDENIE-DJUABLIN</td>\n",
              "      <td>ABENGOUROU</td>\n",
              "      <td>C4001</td>\n",
              "      <td>AS27000</td>\n",
              "      <td>0</td>\n",
              "      <td>75</td>\n",
              "      <td>22</td>\n",
              "      <td>0</td>\n",
              "      <td>53</td>\n",
              "      <td>9</td>\n",
              "      <td>0</td>\n",
              "      <td>0.0</td>\n",
              "    </tr>\n",
              "    <tr>\n",
              "      <th>3</th>\n",
              "      <td>2019</td>\n",
              "      <td>1</td>\n",
              "      <td>INDENIE-DJUABLIN</td>\n",
              "      <td>ABENGOUROU</td>\n",
              "      <td>C4001</td>\n",
              "      <td>AS27137</td>\n",
              "      <td>2</td>\n",
              "      <td>0</td>\n",
              "      <td>0</td>\n",
              "      <td>0</td>\n",
              "      <td>2</td>\n",
              "      <td>0</td>\n",
              "      <td>0</td>\n",
              "      <td>0.0</td>\n",
              "    </tr>\n",
              "    <tr>\n",
              "      <th>4</th>\n",
              "      <td>2019</td>\n",
              "      <td>1</td>\n",
              "      <td>INDENIE-DJUABLIN</td>\n",
              "      <td>ABENGOUROU</td>\n",
              "      <td>C4001</td>\n",
              "      <td>AS27138</td>\n",
              "      <td>45</td>\n",
              "      <td>0</td>\n",
              "      <td>2</td>\n",
              "      <td>0</td>\n",
              "      <td>43</td>\n",
              "      <td>1</td>\n",
              "      <td>0</td>\n",
              "      <td>0.0</td>\n",
              "    </tr>\n",
              "  </tbody>\n",
              "</table>\n",
              "</div>"
            ],
            "text/plain": [
              "   year  month  ... stock_stockout_days stock_ordered\n",
              "0  2019      1  ...                   0         100.0\n",
              "1  2019      1  ...                   0          10.0\n",
              "2  2019      1  ...                   0           0.0\n",
              "3  2019      1  ...                   0           0.0\n",
              "4  2019      1  ...                   0           0.0\n",
              "\n",
              "[5 rows x 14 columns]"
            ]
          },
          "metadata": {
            "tags": []
          },
          "execution_count": 41
        }
      ]
    },
    {
      "cell_type": "code",
      "metadata": {
        "colab": {
          "base_uri": "https://localhost:8080/"
        },
        "id": "l53xTMu2nlIZ",
        "outputId": "c9b9a07d-e0bf-4eae-ef3f-ab249ecbe865"
      },
      "source": [
        "# Check the records we have in our annual dataset\n",
        "print('annual dataset\\n',annual.shape,'\\n')\n",
        "print('monthly dataset\\n',monthly.shape,'\\n')\n",
        "print('Train dataset\\n',df.shape,'\\n')\n"
      ],
      "execution_count": null,
      "outputs": [
        {
          "output_type": "stream",
          "text": [
            "annual dataset\n",
            " (339, 27) \n",
            "\n",
            "monthly dataset\n",
            " (678, 28) \n",
            "\n",
            "Train dataset\n",
            " (35753, 14) \n",
            "\n"
          ],
          "name": "stdout"
        }
      ]
    },
    {
      "cell_type": "code",
      "metadata": {
        "colab": {
          "base_uri": "https://localhost:8080/"
        },
        "id": "PBI-fdrLX1rs",
        "outputId": "c6cd1478-506d-4d5f-96e7-931262d26bf7"
      },
      "source": [
        "# Checking the info on our annual dataset \n",
        "annual.info()"
      ],
      "execution_count": null,
      "outputs": [
        {
          "output_type": "stream",
          "text": [
            "<class 'pandas.core.frame.DataFrame'>\n",
            "RangeIndex: 339 entries, 0 to 338\n",
            "Data columns (total 27 columns):\n",
            " #   Column                       Non-Null Count  Dtype  \n",
            "---  ------                       --------------  -----  \n",
            " 0   district                     339 non-null    object \n",
            " 1   year                         339 non-null    int64  \n",
            " 2   implant_women_old            326 non-null    float64\n",
            " 3   implant_women_new            337 non-null    float64\n",
            " 4   injection2_women_old         337 non-null    float64\n",
            " 5   injection2_women_new         334 non-null    float64\n",
            " 6   injection3_women_old         339 non-null    int64  \n",
            " 7   injection3_women_new         339 non-null    int64  \n",
            " 8   pill_women_old               339 non-null    float64\n",
            " 9   pill_women_new               338 non-null    float64\n",
            " 10  iud_women_old                212 non-null    float64\n",
            " 11  iud_women_new                277 non-null    float64\n",
            " 12  iud_number_dispensed         233 non-null    float64\n",
            " 13  implant_number_dispensed     333 non-null    float64\n",
            " 14  injection2_number_dispensed  331 non-null    float64\n",
            " 15  injection3_number_dispensed  338 non-null    float64\n",
            " 16  pill_number_dispensed        334 non-null    float64\n",
            " 17  iud_number_received          245 non-null    float64\n",
            " 18  implant_number_received      333 non-null    float64\n",
            " 19  injection2_number_received   328 non-null    float64\n",
            " 20  injection3_number_received   337 non-null    float64\n",
            " 21  pill_number_received         332 non-null    float64\n",
            " 22  iud_stock_end                0 non-null      float64\n",
            " 23  implant_stock_end            266 non-null    float64\n",
            " 24  injection2_stock_end         0 non-null      float64\n",
            " 25  injection3_stock_end         271 non-null    float64\n",
            " 26  pill_stock_end               266 non-null    float64\n",
            "dtypes: float64(23), int64(3), object(1)\n",
            "memory usage: 71.6+ KB\n"
          ],
          "name": "stdout"
        }
      ]
    },
    {
      "cell_type": "code",
      "metadata": {
        "colab": {
          "base_uri": "https://localhost:8080/"
        },
        "id": "Bwg3n0_SXNIp",
        "outputId": "a7c28b27-b317-493e-d572-a67f929bb51d"
      },
      "source": [
        "# checking the info on our monthly dataset \n",
        "monthly.info()"
      ],
      "execution_count": null,
      "outputs": [
        {
          "output_type": "stream",
          "text": [
            "<class 'pandas.core.frame.DataFrame'>\n",
            "RangeIndex: 678 entries, 0 to 677\n",
            "Data columns (total 28 columns):\n",
            " #   Column                       Non-Null Count  Dtype  \n",
            "---  ------                       --------------  -----  \n",
            " 0   district                     678 non-null    object \n",
            " 1   month                        678 non-null    int64  \n",
            " 2   year                         678 non-null    int64  \n",
            " 3   implant_women_old            610 non-null    float64\n",
            " 4   implant_women_new            672 non-null    float64\n",
            " 5   injection2_women_old         556 non-null    float64\n",
            " 6   injection2_women_new         481 non-null    float64\n",
            " 7   injection3_women_old         678 non-null    int64  \n",
            " 8   injection3_women_new         678 non-null    int64  \n",
            " 9   pill_women_old               621 non-null    float64\n",
            " 10  pill_women_new               595 non-null    float64\n",
            " 11  iud_women_old                250 non-null    float64\n",
            " 12  iud_women_new                306 non-null    float64\n",
            " 13  iud_number_dispensed         249 non-null    float64\n",
            " 14  implant_number_dispensed     649 non-null    float64\n",
            " 15  injection2_number_dispensed  508 non-null    float64\n",
            " 16  injection3_number_dispensed  662 non-null    float64\n",
            " 17  pill_number_dispensed        615 non-null    float64\n",
            " 18  iud_number_received          334 non-null    float64\n",
            " 19  implant_number_received      643 non-null    float64\n",
            " 20  injection2_number_received   496 non-null    float64\n",
            " 21  injection3_number_received   657 non-null    float64\n",
            " 22  pill_number_received         615 non-null    float64\n",
            " 23  iud_stock_end                0 non-null      float64\n",
            " 24  implant_stock_end            645 non-null    float64\n",
            " 25  injection2_stock_end         0 non-null      float64\n",
            " 26  injection3_stock_end         659 non-null    float64\n",
            " 27  pill_stock_end               626 non-null    float64\n",
            "dtypes: float64(23), int64(4), object(1)\n",
            "memory usage: 148.4+ KB\n"
          ],
          "name": "stdout"
        }
      ]
    },
    {
      "cell_type": "code",
      "metadata": {
        "colab": {
          "base_uri": "https://localhost:8080/"
        },
        "id": "LVr1gdfCXlxb",
        "outputId": "f65470e0-d41c-481c-f20e-acba0ce92273"
      },
      "source": [
        "# checking the info on our train dataset \n",
        "df.info()"
      ],
      "execution_count": null,
      "outputs": [
        {
          "output_type": "stream",
          "text": [
            "<class 'pandas.core.frame.DataFrame'>\n",
            "RangeIndex: 35753 entries, 0 to 35752\n",
            "Data columns (total 14 columns):\n",
            " #   Column                       Non-Null Count  Dtype  \n",
            "---  ------                       --------------  -----  \n",
            " 0   year                         35753 non-null  int64  \n",
            " 1   month                        35753 non-null  int64  \n",
            " 2   region                       35753 non-null  object \n",
            " 3   district                     35753 non-null  object \n",
            " 4   site_code                    35753 non-null  object \n",
            " 5   product_code                 35753 non-null  object \n",
            " 6   stock_initial                35753 non-null  int64  \n",
            " 7   stock_received               35753 non-null  int64  \n",
            " 8   stock_distributed            35753 non-null  int64  \n",
            " 9   stock_adjustment             35753 non-null  int64  \n",
            " 10  stock_end                    35753 non-null  int64  \n",
            " 11  average_monthly_consumption  35753 non-null  int64  \n",
            " 12  stock_stockout_days          35753 non-null  int64  \n",
            " 13  stock_ordered                34990 non-null  float64\n",
            "dtypes: float64(1), int64(9), object(4)\n",
            "memory usage: 3.8+ MB\n"
          ],
          "name": "stdout"
        }
      ]
    },
    {
      "cell_type": "code",
      "metadata": {
        "colab": {
          "base_uri": "https://localhost:8080/",
          "height": 850
        },
        "id": "Z4o4kftMoV75",
        "outputId": "4749e703-d40f-4c43-9e2d-5b88f3558169"
      },
      "source": [
        "# Summary of the numerical attributes\n",
        "annual.describe().transpose()"
      ],
      "execution_count": null,
      "outputs": [
        {
          "output_type": "execute_result",
          "data": {
            "text/html": [
              "<div>\n",
              "<style scoped>\n",
              "    .dataframe tbody tr th:only-of-type {\n",
              "        vertical-align: middle;\n",
              "    }\n",
              "\n",
              "    .dataframe tbody tr th {\n",
              "        vertical-align: top;\n",
              "    }\n",
              "\n",
              "    .dataframe thead th {\n",
              "        text-align: right;\n",
              "    }\n",
              "</style>\n",
              "<table border=\"1\" class=\"dataframe\">\n",
              "  <thead>\n",
              "    <tr style=\"text-align: right;\">\n",
              "      <th></th>\n",
              "      <th>count</th>\n",
              "      <th>mean</th>\n",
              "      <th>std</th>\n",
              "      <th>min</th>\n",
              "      <th>25%</th>\n",
              "      <th>50%</th>\n",
              "      <th>75%</th>\n",
              "      <th>max</th>\n",
              "    </tr>\n",
              "  </thead>\n",
              "  <tbody>\n",
              "    <tr>\n",
              "      <th>year</th>\n",
              "      <td>339.0</td>\n",
              "      <td>2017.000000</td>\n",
              "      <td>0.817704</td>\n",
              "      <td>2016.0</td>\n",
              "      <td>2016.00</td>\n",
              "      <td>2017.0</td>\n",
              "      <td>2018.00</td>\n",
              "      <td>2018.0</td>\n",
              "    </tr>\n",
              "    <tr>\n",
              "      <th>implant_women_old</th>\n",
              "      <td>326.0</td>\n",
              "      <td>1499.193252</td>\n",
              "      <td>2975.216904</td>\n",
              "      <td>1.0</td>\n",
              "      <td>90.75</td>\n",
              "      <td>459.0</td>\n",
              "      <td>1430.00</td>\n",
              "      <td>23226.0</td>\n",
              "    </tr>\n",
              "    <tr>\n",
              "      <th>implant_women_new</th>\n",
              "      <td>337.0</td>\n",
              "      <td>572.875371</td>\n",
              "      <td>633.746985</td>\n",
              "      <td>5.0</td>\n",
              "      <td>146.00</td>\n",
              "      <td>350.0</td>\n",
              "      <td>749.00</td>\n",
              "      <td>3959.0</td>\n",
              "    </tr>\n",
              "    <tr>\n",
              "      <th>injection2_women_old</th>\n",
              "      <td>337.0</td>\n",
              "      <td>1097.528190</td>\n",
              "      <td>1641.024406</td>\n",
              "      <td>2.0</td>\n",
              "      <td>132.00</td>\n",
              "      <td>498.0</td>\n",
              "      <td>1295.00</td>\n",
              "      <td>10349.0</td>\n",
              "    </tr>\n",
              "    <tr>\n",
              "      <th>injection2_women_new</th>\n",
              "      <td>334.0</td>\n",
              "      <td>243.158683</td>\n",
              "      <td>398.174681</td>\n",
              "      <td>1.0</td>\n",
              "      <td>60.00</td>\n",
              "      <td>145.0</td>\n",
              "      <td>293.75</td>\n",
              "      <td>4535.0</td>\n",
              "    </tr>\n",
              "    <tr>\n",
              "      <th>injection3_women_old</th>\n",
              "      <td>339.0</td>\n",
              "      <td>5657.554572</td>\n",
              "      <td>25958.064589</td>\n",
              "      <td>144.0</td>\n",
              "      <td>1612.50</td>\n",
              "      <td>2828.0</td>\n",
              "      <td>5433.00</td>\n",
              "      <td>475882.0</td>\n",
              "    </tr>\n",
              "    <tr>\n",
              "      <th>injection3_women_new</th>\n",
              "      <td>339.0</td>\n",
              "      <td>1065.843658</td>\n",
              "      <td>809.122417</td>\n",
              "      <td>65.0</td>\n",
              "      <td>460.00</td>\n",
              "      <td>879.0</td>\n",
              "      <td>1456.00</td>\n",
              "      <td>5164.0</td>\n",
              "    </tr>\n",
              "    <tr>\n",
              "      <th>pill_women_old</th>\n",
              "      <td>339.0</td>\n",
              "      <td>1206.662832</td>\n",
              "      <td>1774.006091</td>\n",
              "      <td>1.0</td>\n",
              "      <td>154.00</td>\n",
              "      <td>490.0</td>\n",
              "      <td>1502.00</td>\n",
              "      <td>12508.0</td>\n",
              "    </tr>\n",
              "    <tr>\n",
              "      <th>pill_women_new</th>\n",
              "      <td>338.0</td>\n",
              "      <td>269.105621</td>\n",
              "      <td>615.979742</td>\n",
              "      <td>1.0</td>\n",
              "      <td>60.50</td>\n",
              "      <td>141.0</td>\n",
              "      <td>311.25</td>\n",
              "      <td>8376.0</td>\n",
              "    </tr>\n",
              "    <tr>\n",
              "      <th>iud_women_old</th>\n",
              "      <td>212.0</td>\n",
              "      <td>138.396226</td>\n",
              "      <td>367.104029</td>\n",
              "      <td>1.0</td>\n",
              "      <td>12.00</td>\n",
              "      <td>37.5</td>\n",
              "      <td>130.00</td>\n",
              "      <td>3482.0</td>\n",
              "    </tr>\n",
              "    <tr>\n",
              "      <th>iud_women_new</th>\n",
              "      <td>277.0</td>\n",
              "      <td>46.454874</td>\n",
              "      <td>85.993653</td>\n",
              "      <td>1.0</td>\n",
              "      <td>4.00</td>\n",
              "      <td>14.0</td>\n",
              "      <td>43.00</td>\n",
              "      <td>889.0</td>\n",
              "    </tr>\n",
              "    <tr>\n",
              "      <th>iud_number_dispensed</th>\n",
              "      <td>233.0</td>\n",
              "      <td>70.763948</td>\n",
              "      <td>151.963812</td>\n",
              "      <td>1.0</td>\n",
              "      <td>5.00</td>\n",
              "      <td>17.0</td>\n",
              "      <td>54.00</td>\n",
              "      <td>1243.0</td>\n",
              "    </tr>\n",
              "    <tr>\n",
              "      <th>implant_number_dispensed</th>\n",
              "      <td>333.0</td>\n",
              "      <td>507.852853</td>\n",
              "      <td>591.170484</td>\n",
              "      <td>2.0</td>\n",
              "      <td>134.00</td>\n",
              "      <td>304.0</td>\n",
              "      <td>663.00</td>\n",
              "      <td>3990.0</td>\n",
              "    </tr>\n",
              "    <tr>\n",
              "      <th>injection2_number_dispensed</th>\n",
              "      <td>331.0</td>\n",
              "      <td>1034.655589</td>\n",
              "      <td>1685.400351</td>\n",
              "      <td>1.0</td>\n",
              "      <td>130.00</td>\n",
              "      <td>427.0</td>\n",
              "      <td>988.50</td>\n",
              "      <td>12131.0</td>\n",
              "    </tr>\n",
              "    <tr>\n",
              "      <th>injection3_number_dispensed</th>\n",
              "      <td>338.0</td>\n",
              "      <td>3023.763314</td>\n",
              "      <td>2811.226297</td>\n",
              "      <td>49.0</td>\n",
              "      <td>1125.50</td>\n",
              "      <td>2142.0</td>\n",
              "      <td>3713.50</td>\n",
              "      <td>15915.0</td>\n",
              "    </tr>\n",
              "    <tr>\n",
              "      <th>pill_number_dispensed</th>\n",
              "      <td>334.0</td>\n",
              "      <td>3366.574850</td>\n",
              "      <td>5942.414705</td>\n",
              "      <td>2.0</td>\n",
              "      <td>388.75</td>\n",
              "      <td>1351.0</td>\n",
              "      <td>3758.50</td>\n",
              "      <td>50638.0</td>\n",
              "    </tr>\n",
              "    <tr>\n",
              "      <th>iud_number_received</th>\n",
              "      <td>245.0</td>\n",
              "      <td>296.371429</td>\n",
              "      <td>566.892801</td>\n",
              "      <td>1.0</td>\n",
              "      <td>15.00</td>\n",
              "      <td>58.0</td>\n",
              "      <td>276.00</td>\n",
              "      <td>3342.0</td>\n",
              "    </tr>\n",
              "    <tr>\n",
              "      <th>implant_number_received</th>\n",
              "      <td>333.0</td>\n",
              "      <td>1054.543544</td>\n",
              "      <td>1436.531292</td>\n",
              "      <td>10.0</td>\n",
              "      <td>237.00</td>\n",
              "      <td>582.0</td>\n",
              "      <td>1195.00</td>\n",
              "      <td>10972.0</td>\n",
              "    </tr>\n",
              "    <tr>\n",
              "      <th>injection2_number_received</th>\n",
              "      <td>328.0</td>\n",
              "      <td>2961.426829</td>\n",
              "      <td>7012.029936</td>\n",
              "      <td>2.0</td>\n",
              "      <td>350.50</td>\n",
              "      <td>917.0</td>\n",
              "      <td>1983.25</td>\n",
              "      <td>64521.0</td>\n",
              "    </tr>\n",
              "    <tr>\n",
              "      <th>injection3_number_received</th>\n",
              "      <td>337.0</td>\n",
              "      <td>4972.287834</td>\n",
              "      <td>6827.590073</td>\n",
              "      <td>76.0</td>\n",
              "      <td>1504.00</td>\n",
              "      <td>2863.0</td>\n",
              "      <td>4986.00</td>\n",
              "      <td>57901.0</td>\n",
              "    </tr>\n",
              "    <tr>\n",
              "      <th>pill_number_received</th>\n",
              "      <td>332.0</td>\n",
              "      <td>8063.759036</td>\n",
              "      <td>15147.234031</td>\n",
              "      <td>1.0</td>\n",
              "      <td>827.75</td>\n",
              "      <td>2658.0</td>\n",
              "      <td>7398.25</td>\n",
              "      <td>105333.0</td>\n",
              "    </tr>\n",
              "    <tr>\n",
              "      <th>iud_stock_end</th>\n",
              "      <td>0.0</td>\n",
              "      <td>NaN</td>\n",
              "      <td>NaN</td>\n",
              "      <td>NaN</td>\n",
              "      <td>NaN</td>\n",
              "      <td>NaN</td>\n",
              "      <td>NaN</td>\n",
              "      <td>NaN</td>\n",
              "    </tr>\n",
              "    <tr>\n",
              "      <th>implant_stock_end</th>\n",
              "      <td>266.0</td>\n",
              "      <td>1042.857143</td>\n",
              "      <td>1194.955524</td>\n",
              "      <td>2.0</td>\n",
              "      <td>221.75</td>\n",
              "      <td>583.5</td>\n",
              "      <td>1495.00</td>\n",
              "      <td>7474.0</td>\n",
              "    </tr>\n",
              "    <tr>\n",
              "      <th>injection2_stock_end</th>\n",
              "      <td>0.0</td>\n",
              "      <td>NaN</td>\n",
              "      <td>NaN</td>\n",
              "      <td>NaN</td>\n",
              "      <td>NaN</td>\n",
              "      <td>NaN</td>\n",
              "      <td>NaN</td>\n",
              "      <td>NaN</td>\n",
              "    </tr>\n",
              "    <tr>\n",
              "      <th>injection3_stock_end</th>\n",
              "      <td>271.0</td>\n",
              "      <td>3579.070111</td>\n",
              "      <td>4794.325204</td>\n",
              "      <td>5.0</td>\n",
              "      <td>880.50</td>\n",
              "      <td>2066.0</td>\n",
              "      <td>4054.00</td>\n",
              "      <td>32457.0</td>\n",
              "    </tr>\n",
              "    <tr>\n",
              "      <th>pill_stock_end</th>\n",
              "      <td>266.0</td>\n",
              "      <td>9146.868421</td>\n",
              "      <td>18806.852458</td>\n",
              "      <td>1.0</td>\n",
              "      <td>626.00</td>\n",
              "      <td>2923.0</td>\n",
              "      <td>7919.50</td>\n",
              "      <td>181880.0</td>\n",
              "    </tr>\n",
              "  </tbody>\n",
              "</table>\n",
              "</div>"
            ],
            "text/plain": [
              "                             count         mean  ...      75%       max\n",
              "year                         339.0  2017.000000  ...  2018.00    2018.0\n",
              "implant_women_old            326.0  1499.193252  ...  1430.00   23226.0\n",
              "implant_women_new            337.0   572.875371  ...   749.00    3959.0\n",
              "injection2_women_old         337.0  1097.528190  ...  1295.00   10349.0\n",
              "injection2_women_new         334.0   243.158683  ...   293.75    4535.0\n",
              "injection3_women_old         339.0  5657.554572  ...  5433.00  475882.0\n",
              "injection3_women_new         339.0  1065.843658  ...  1456.00    5164.0\n",
              "pill_women_old               339.0  1206.662832  ...  1502.00   12508.0\n",
              "pill_women_new               338.0   269.105621  ...   311.25    8376.0\n",
              "iud_women_old                212.0   138.396226  ...   130.00    3482.0\n",
              "iud_women_new                277.0    46.454874  ...    43.00     889.0\n",
              "iud_number_dispensed         233.0    70.763948  ...    54.00    1243.0\n",
              "implant_number_dispensed     333.0   507.852853  ...   663.00    3990.0\n",
              "injection2_number_dispensed  331.0  1034.655589  ...   988.50   12131.0\n",
              "injection3_number_dispensed  338.0  3023.763314  ...  3713.50   15915.0\n",
              "pill_number_dispensed        334.0  3366.574850  ...  3758.50   50638.0\n",
              "iud_number_received          245.0   296.371429  ...   276.00    3342.0\n",
              "implant_number_received      333.0  1054.543544  ...  1195.00   10972.0\n",
              "injection2_number_received   328.0  2961.426829  ...  1983.25   64521.0\n",
              "injection3_number_received   337.0  4972.287834  ...  4986.00   57901.0\n",
              "pill_number_received         332.0  8063.759036  ...  7398.25  105333.0\n",
              "iud_stock_end                  0.0          NaN  ...      NaN       NaN\n",
              "implant_stock_end            266.0  1042.857143  ...  1495.00    7474.0\n",
              "injection2_stock_end           0.0          NaN  ...      NaN       NaN\n",
              "injection3_stock_end         271.0  3579.070111  ...  4054.00   32457.0\n",
              "pill_stock_end               266.0  9146.868421  ...  7919.50  181880.0\n",
              "\n",
              "[26 rows x 8 columns]"
            ]
          },
          "metadata": {
            "tags": []
          },
          "execution_count": 46
        }
      ]
    },
    {
      "cell_type": "code",
      "metadata": {
        "colab": {
          "base_uri": "https://localhost:8080/",
          "height": 881
        },
        "id": "_XP4UrekX0hr",
        "outputId": "7fc21c2d-3245-4da2-f5fc-16f5aff1f963"
      },
      "source": [
        "# Summary of the numerical attributes\n",
        "monthly.describe().transpose()"
      ],
      "execution_count": null,
      "outputs": [
        {
          "output_type": "execute_result",
          "data": {
            "text/html": [
              "<div>\n",
              "<style scoped>\n",
              "    .dataframe tbody tr th:only-of-type {\n",
              "        vertical-align: middle;\n",
              "    }\n",
              "\n",
              "    .dataframe tbody tr th {\n",
              "        vertical-align: top;\n",
              "    }\n",
              "\n",
              "    .dataframe thead th {\n",
              "        text-align: right;\n",
              "    }\n",
              "</style>\n",
              "<table border=\"1\" class=\"dataframe\">\n",
              "  <thead>\n",
              "    <tr style=\"text-align: right;\">\n",
              "      <th></th>\n",
              "      <th>count</th>\n",
              "      <th>mean</th>\n",
              "      <th>std</th>\n",
              "      <th>min</th>\n",
              "      <th>25%</th>\n",
              "      <th>50%</th>\n",
              "      <th>75%</th>\n",
              "      <th>max</th>\n",
              "    </tr>\n",
              "  </thead>\n",
              "  <tbody>\n",
              "    <tr>\n",
              "      <th>month</th>\n",
              "      <td>678.0</td>\n",
              "      <td>3.500000</td>\n",
              "      <td>1.709086</td>\n",
              "      <td>1.0</td>\n",
              "      <td>2.00</td>\n",
              "      <td>3.5</td>\n",
              "      <td>5.00</td>\n",
              "      <td>6.0</td>\n",
              "    </tr>\n",
              "    <tr>\n",
              "      <th>year</th>\n",
              "      <td>678.0</td>\n",
              "      <td>2019.000000</td>\n",
              "      <td>0.000000</td>\n",
              "      <td>2019.0</td>\n",
              "      <td>2019.00</td>\n",
              "      <td>2019.0</td>\n",
              "      <td>2019.00</td>\n",
              "      <td>2019.0</td>\n",
              "    </tr>\n",
              "    <tr>\n",
              "      <th>implant_women_old</th>\n",
              "      <td>610.0</td>\n",
              "      <td>213.509836</td>\n",
              "      <td>358.961649</td>\n",
              "      <td>1.0</td>\n",
              "      <td>12.00</td>\n",
              "      <td>75.0</td>\n",
              "      <td>288.50</td>\n",
              "      <td>2883.0</td>\n",
              "    </tr>\n",
              "    <tr>\n",
              "      <th>implant_women_new</th>\n",
              "      <td>672.0</td>\n",
              "      <td>77.831845</td>\n",
              "      <td>108.731927</td>\n",
              "      <td>1.0</td>\n",
              "      <td>21.00</td>\n",
              "      <td>45.0</td>\n",
              "      <td>87.00</td>\n",
              "      <td>1344.0</td>\n",
              "    </tr>\n",
              "    <tr>\n",
              "      <th>injection2_women_old</th>\n",
              "      <td>556.0</td>\n",
              "      <td>39.429856</td>\n",
              "      <td>71.846085</td>\n",
              "      <td>1.0</td>\n",
              "      <td>6.00</td>\n",
              "      <td>18.0</td>\n",
              "      <td>50.00</td>\n",
              "      <td>1259.0</td>\n",
              "    </tr>\n",
              "    <tr>\n",
              "      <th>injection2_women_new</th>\n",
              "      <td>481.0</td>\n",
              "      <td>9.428274</td>\n",
              "      <td>12.449881</td>\n",
              "      <td>1.0</td>\n",
              "      <td>2.00</td>\n",
              "      <td>5.0</td>\n",
              "      <td>12.00</td>\n",
              "      <td>133.0</td>\n",
              "    </tr>\n",
              "    <tr>\n",
              "      <th>injection3_women_old</th>\n",
              "      <td>678.0</td>\n",
              "      <td>495.436578</td>\n",
              "      <td>467.385785</td>\n",
              "      <td>20.0</td>\n",
              "      <td>184.50</td>\n",
              "      <td>320.0</td>\n",
              "      <td>665.75</td>\n",
              "      <td>2534.0</td>\n",
              "    </tr>\n",
              "    <tr>\n",
              "      <th>injection3_women_new</th>\n",
              "      <td>678.0</td>\n",
              "      <td>110.523599</td>\n",
              "      <td>94.042050</td>\n",
              "      <td>7.0</td>\n",
              "      <td>51.00</td>\n",
              "      <td>87.0</td>\n",
              "      <td>136.75</td>\n",
              "      <td>1061.0</td>\n",
              "    </tr>\n",
              "    <tr>\n",
              "      <th>pill_women_old</th>\n",
              "      <td>621.0</td>\n",
              "      <td>98.466989</td>\n",
              "      <td>126.187320</td>\n",
              "      <td>1.0</td>\n",
              "      <td>15.00</td>\n",
              "      <td>45.0</td>\n",
              "      <td>130.00</td>\n",
              "      <td>726.0</td>\n",
              "    </tr>\n",
              "    <tr>\n",
              "      <th>pill_women_new</th>\n",
              "      <td>595.0</td>\n",
              "      <td>17.986555</td>\n",
              "      <td>26.655676</td>\n",
              "      <td>1.0</td>\n",
              "      <td>5.00</td>\n",
              "      <td>10.0</td>\n",
              "      <td>21.00</td>\n",
              "      <td>314.0</td>\n",
              "    </tr>\n",
              "    <tr>\n",
              "      <th>iud_women_old</th>\n",
              "      <td>250.0</td>\n",
              "      <td>29.924000</td>\n",
              "      <td>72.441128</td>\n",
              "      <td>1.0</td>\n",
              "      <td>2.00</td>\n",
              "      <td>8.0</td>\n",
              "      <td>22.50</td>\n",
              "      <td>498.0</td>\n",
              "    </tr>\n",
              "    <tr>\n",
              "      <th>iud_women_new</th>\n",
              "      <td>306.0</td>\n",
              "      <td>7.071895</td>\n",
              "      <td>9.717387</td>\n",
              "      <td>1.0</td>\n",
              "      <td>2.00</td>\n",
              "      <td>4.0</td>\n",
              "      <td>9.00</td>\n",
              "      <td>99.0</td>\n",
              "    </tr>\n",
              "    <tr>\n",
              "      <th>iud_number_dispensed</th>\n",
              "      <td>249.0</td>\n",
              "      <td>14.269076</td>\n",
              "      <td>31.723031</td>\n",
              "      <td>1.0</td>\n",
              "      <td>2.00</td>\n",
              "      <td>5.0</td>\n",
              "      <td>16.00</td>\n",
              "      <td>410.0</td>\n",
              "    </tr>\n",
              "    <tr>\n",
              "      <th>implant_number_dispensed</th>\n",
              "      <td>649.0</td>\n",
              "      <td>73.805855</td>\n",
              "      <td>138.604484</td>\n",
              "      <td>1.0</td>\n",
              "      <td>18.00</td>\n",
              "      <td>43.0</td>\n",
              "      <td>88.00</td>\n",
              "      <td>2889.0</td>\n",
              "    </tr>\n",
              "    <tr>\n",
              "      <th>injection2_number_dispensed</th>\n",
              "      <td>508.0</td>\n",
              "      <td>29.826772</td>\n",
              "      <td>51.024934</td>\n",
              "      <td>1.0</td>\n",
              "      <td>5.00</td>\n",
              "      <td>14.0</td>\n",
              "      <td>34.25</td>\n",
              "      <td>487.0</td>\n",
              "    </tr>\n",
              "    <tr>\n",
              "      <th>injection3_number_dispensed</th>\n",
              "      <td>662.0</td>\n",
              "      <td>354.691843</td>\n",
              "      <td>323.045598</td>\n",
              "      <td>1.0</td>\n",
              "      <td>132.25</td>\n",
              "      <td>260.0</td>\n",
              "      <td>449.25</td>\n",
              "      <td>1903.0</td>\n",
              "    </tr>\n",
              "    <tr>\n",
              "      <th>pill_number_dispensed</th>\n",
              "      <td>615.0</td>\n",
              "      <td>278.626016</td>\n",
              "      <td>536.933451</td>\n",
              "      <td>1.0</td>\n",
              "      <td>28.00</td>\n",
              "      <td>94.0</td>\n",
              "      <td>300.50</td>\n",
              "      <td>5711.0</td>\n",
              "    </tr>\n",
              "    <tr>\n",
              "      <th>iud_number_received</th>\n",
              "      <td>334.0</td>\n",
              "      <td>30.311377</td>\n",
              "      <td>46.266678</td>\n",
              "      <td>1.0</td>\n",
              "      <td>5.00</td>\n",
              "      <td>10.5</td>\n",
              "      <td>35.50</td>\n",
              "      <td>364.0</td>\n",
              "    </tr>\n",
              "    <tr>\n",
              "      <th>implant_number_received</th>\n",
              "      <td>643.0</td>\n",
              "      <td>138.527216</td>\n",
              "      <td>191.089246</td>\n",
              "      <td>1.0</td>\n",
              "      <td>35.50</td>\n",
              "      <td>82.0</td>\n",
              "      <td>161.00</td>\n",
              "      <td>2333.0</td>\n",
              "    </tr>\n",
              "    <tr>\n",
              "      <th>injection2_number_received</th>\n",
              "      <td>496.0</td>\n",
              "      <td>102.322581</td>\n",
              "      <td>193.269208</td>\n",
              "      <td>1.0</td>\n",
              "      <td>15.00</td>\n",
              "      <td>45.0</td>\n",
              "      <td>107.25</td>\n",
              "      <td>1621.0</td>\n",
              "    </tr>\n",
              "    <tr>\n",
              "      <th>injection3_number_received</th>\n",
              "      <td>657.0</td>\n",
              "      <td>505.001522</td>\n",
              "      <td>579.414216</td>\n",
              "      <td>5.0</td>\n",
              "      <td>183.00</td>\n",
              "      <td>335.0</td>\n",
              "      <td>538.00</td>\n",
              "      <td>4934.0</td>\n",
              "    </tr>\n",
              "    <tr>\n",
              "      <th>pill_number_received</th>\n",
              "      <td>615.0</td>\n",
              "      <td>665.076423</td>\n",
              "      <td>2107.103258</td>\n",
              "      <td>1.0</td>\n",
              "      <td>61.00</td>\n",
              "      <td>176.0</td>\n",
              "      <td>518.50</td>\n",
              "      <td>43282.0</td>\n",
              "    </tr>\n",
              "    <tr>\n",
              "      <th>iud_stock_end</th>\n",
              "      <td>0.0</td>\n",
              "      <td>NaN</td>\n",
              "      <td>NaN</td>\n",
              "      <td>NaN</td>\n",
              "      <td>NaN</td>\n",
              "      <td>NaN</td>\n",
              "      <td>NaN</td>\n",
              "      <td>NaN</td>\n",
              "    </tr>\n",
              "    <tr>\n",
              "      <th>implant_stock_end</th>\n",
              "      <td>645.0</td>\n",
              "      <td>143.289922</td>\n",
              "      <td>177.133941</td>\n",
              "      <td>1.0</td>\n",
              "      <td>38.00</td>\n",
              "      <td>91.0</td>\n",
              "      <td>174.00</td>\n",
              "      <td>1801.0</td>\n",
              "    </tr>\n",
              "    <tr>\n",
              "      <th>injection2_stock_end</th>\n",
              "      <td>0.0</td>\n",
              "      <td>NaN</td>\n",
              "      <td>NaN</td>\n",
              "      <td>NaN</td>\n",
              "      <td>NaN</td>\n",
              "      <td>NaN</td>\n",
              "      <td>NaN</td>\n",
              "      <td>NaN</td>\n",
              "    </tr>\n",
              "    <tr>\n",
              "      <th>injection3_stock_end</th>\n",
              "      <td>659.0</td>\n",
              "      <td>390.250379</td>\n",
              "      <td>461.823990</td>\n",
              "      <td>1.0</td>\n",
              "      <td>124.00</td>\n",
              "      <td>239.0</td>\n",
              "      <td>460.50</td>\n",
              "      <td>4274.0</td>\n",
              "    </tr>\n",
              "    <tr>\n",
              "      <th>pill_stock_end</th>\n",
              "      <td>626.0</td>\n",
              "      <td>694.589457</td>\n",
              "      <td>1266.391772</td>\n",
              "      <td>1.0</td>\n",
              "      <td>65.25</td>\n",
              "      <td>247.5</td>\n",
              "      <td>658.00</td>\n",
              "      <td>8775.0</td>\n",
              "    </tr>\n",
              "  </tbody>\n",
              "</table>\n",
              "</div>"
            ],
            "text/plain": [
              "                             count         mean  ...      75%      max\n",
              "month                        678.0     3.500000  ...     5.00      6.0\n",
              "year                         678.0  2019.000000  ...  2019.00   2019.0\n",
              "implant_women_old            610.0   213.509836  ...   288.50   2883.0\n",
              "implant_women_new            672.0    77.831845  ...    87.00   1344.0\n",
              "injection2_women_old         556.0    39.429856  ...    50.00   1259.0\n",
              "injection2_women_new         481.0     9.428274  ...    12.00    133.0\n",
              "injection3_women_old         678.0   495.436578  ...   665.75   2534.0\n",
              "injection3_women_new         678.0   110.523599  ...   136.75   1061.0\n",
              "pill_women_old               621.0    98.466989  ...   130.00    726.0\n",
              "pill_women_new               595.0    17.986555  ...    21.00    314.0\n",
              "iud_women_old                250.0    29.924000  ...    22.50    498.0\n",
              "iud_women_new                306.0     7.071895  ...     9.00     99.0\n",
              "iud_number_dispensed         249.0    14.269076  ...    16.00    410.0\n",
              "implant_number_dispensed     649.0    73.805855  ...    88.00   2889.0\n",
              "injection2_number_dispensed  508.0    29.826772  ...    34.25    487.0\n",
              "injection3_number_dispensed  662.0   354.691843  ...   449.25   1903.0\n",
              "pill_number_dispensed        615.0   278.626016  ...   300.50   5711.0\n",
              "iud_number_received          334.0    30.311377  ...    35.50    364.0\n",
              "implant_number_received      643.0   138.527216  ...   161.00   2333.0\n",
              "injection2_number_received   496.0   102.322581  ...   107.25   1621.0\n",
              "injection3_number_received   657.0   505.001522  ...   538.00   4934.0\n",
              "pill_number_received         615.0   665.076423  ...   518.50  43282.0\n",
              "iud_stock_end                  0.0          NaN  ...      NaN      NaN\n",
              "implant_stock_end            645.0   143.289922  ...   174.00   1801.0\n",
              "injection2_stock_end           0.0          NaN  ...      NaN      NaN\n",
              "injection3_stock_end         659.0   390.250379  ...   460.50   4274.0\n",
              "pill_stock_end               626.0   694.589457  ...   658.00   8775.0\n",
              "\n",
              "[27 rows x 8 columns]"
            ]
          },
          "metadata": {
            "tags": []
          },
          "execution_count": 47
        }
      ]
    },
    {
      "cell_type": "code",
      "metadata": {
        "colab": {
          "base_uri": "https://localhost:8080/",
          "height": 357
        },
        "id": "rCgZtoDeX44V",
        "outputId": "ca57f78d-9199-4a9a-c7a7-4f8ea7b06f3e"
      },
      "source": [
        "# Summary of the numerical attributes\n",
        "df.describe().transpose()"
      ],
      "execution_count": null,
      "outputs": [
        {
          "output_type": "execute_result",
          "data": {
            "text/html": [
              "<div>\n",
              "<style scoped>\n",
              "    .dataframe tbody tr th:only-of-type {\n",
              "        vertical-align: middle;\n",
              "    }\n",
              "\n",
              "    .dataframe tbody tr th {\n",
              "        vertical-align: top;\n",
              "    }\n",
              "\n",
              "    .dataframe thead th {\n",
              "        text-align: right;\n",
              "    }\n",
              "</style>\n",
              "<table border=\"1\" class=\"dataframe\">\n",
              "  <thead>\n",
              "    <tr style=\"text-align: right;\">\n",
              "      <th></th>\n",
              "      <th>count</th>\n",
              "      <th>mean</th>\n",
              "      <th>std</th>\n",
              "      <th>min</th>\n",
              "      <th>25%</th>\n",
              "      <th>50%</th>\n",
              "      <th>75%</th>\n",
              "      <th>max</th>\n",
              "    </tr>\n",
              "  </thead>\n",
              "  <tbody>\n",
              "    <tr>\n",
              "      <th>year</th>\n",
              "      <td>35753.0</td>\n",
              "      <td>2017.433782</td>\n",
              "      <td>1.019933</td>\n",
              "      <td>2016.0</td>\n",
              "      <td>2017.0</td>\n",
              "      <td>2017.0</td>\n",
              "      <td>2018.0</td>\n",
              "      <td>2019.0</td>\n",
              "    </tr>\n",
              "    <tr>\n",
              "      <th>month</th>\n",
              "      <td>35753.0</td>\n",
              "      <td>6.169412</td>\n",
              "      <td>3.429079</td>\n",
              "      <td>1.0</td>\n",
              "      <td>3.0</td>\n",
              "      <td>6.0</td>\n",
              "      <td>9.0</td>\n",
              "      <td>12.0</td>\n",
              "    </tr>\n",
              "    <tr>\n",
              "      <th>stock_initial</th>\n",
              "      <td>35753.0</td>\n",
              "      <td>63.245518</td>\n",
              "      <td>168.661538</td>\n",
              "      <td>0.0</td>\n",
              "      <td>0.0</td>\n",
              "      <td>12.0</td>\n",
              "      <td>69.0</td>\n",
              "      <td>4320.0</td>\n",
              "    </tr>\n",
              "    <tr>\n",
              "      <th>stock_received</th>\n",
              "      <td>35753.0</td>\n",
              "      <td>14.846055</td>\n",
              "      <td>70.631782</td>\n",
              "      <td>0.0</td>\n",
              "      <td>0.0</td>\n",
              "      <td>0.0</td>\n",
              "      <td>0.0</td>\n",
              "      <td>3534.0</td>\n",
              "    </tr>\n",
              "    <tr>\n",
              "      <th>stock_distributed</th>\n",
              "      <td>35753.0</td>\n",
              "      <td>14.764327</td>\n",
              "      <td>39.848242</td>\n",
              "      <td>0.0</td>\n",
              "      <td>0.0</td>\n",
              "      <td>1.0</td>\n",
              "      <td>13.0</td>\n",
              "      <td>1728.0</td>\n",
              "    </tr>\n",
              "    <tr>\n",
              "      <th>stock_adjustment</th>\n",
              "      <td>35753.0</td>\n",
              "      <td>0.961150</td>\n",
              "      <td>37.883099</td>\n",
              "      <td>-1440.0</td>\n",
              "      <td>0.0</td>\n",
              "      <td>0.0</td>\n",
              "      <td>0.0</td>\n",
              "      <td>3003.0</td>\n",
              "    </tr>\n",
              "    <tr>\n",
              "      <th>stock_end</th>\n",
              "      <td>35753.0</td>\n",
              "      <td>64.288395</td>\n",
              "      <td>170.848479</td>\n",
              "      <td>0.0</td>\n",
              "      <td>0.0</td>\n",
              "      <td>13.0</td>\n",
              "      <td>70.0</td>\n",
              "      <td>4320.0</td>\n",
              "    </tr>\n",
              "    <tr>\n",
              "      <th>average_monthly_consumption</th>\n",
              "      <td>35753.0</td>\n",
              "      <td>14.606439</td>\n",
              "      <td>32.521384</td>\n",
              "      <td>0.0</td>\n",
              "      <td>0.0</td>\n",
              "      <td>3.0</td>\n",
              "      <td>16.0</td>\n",
              "      <td>864.0</td>\n",
              "    </tr>\n",
              "    <tr>\n",
              "      <th>stock_stockout_days</th>\n",
              "      <td>35753.0</td>\n",
              "      <td>0.000000</td>\n",
              "      <td>0.000000</td>\n",
              "      <td>0.0</td>\n",
              "      <td>0.0</td>\n",
              "      <td>0.0</td>\n",
              "      <td>0.0</td>\n",
              "      <td>0.0</td>\n",
              "    </tr>\n",
              "    <tr>\n",
              "      <th>stock_ordered</th>\n",
              "      <td>34990.0</td>\n",
              "      <td>26.658102</td>\n",
              "      <td>107.166082</td>\n",
              "      <td>0.0</td>\n",
              "      <td>0.0</td>\n",
              "      <td>0.0</td>\n",
              "      <td>20.0</td>\n",
              "      <td>10240.0</td>\n",
              "    </tr>\n",
              "  </tbody>\n",
              "</table>\n",
              "</div>"
            ],
            "text/plain": [
              "                               count         mean  ...     75%      max\n",
              "year                         35753.0  2017.433782  ...  2018.0   2019.0\n",
              "month                        35753.0     6.169412  ...     9.0     12.0\n",
              "stock_initial                35753.0    63.245518  ...    69.0   4320.0\n",
              "stock_received               35753.0    14.846055  ...     0.0   3534.0\n",
              "stock_distributed            35753.0    14.764327  ...    13.0   1728.0\n",
              "stock_adjustment             35753.0     0.961150  ...     0.0   3003.0\n",
              "stock_end                    35753.0    64.288395  ...    70.0   4320.0\n",
              "average_monthly_consumption  35753.0    14.606439  ...    16.0    864.0\n",
              "stock_stockout_days          35753.0     0.000000  ...     0.0      0.0\n",
              "stock_ordered                34990.0    26.658102  ...    20.0  10240.0\n",
              "\n",
              "[10 rows x 8 columns]"
            ]
          },
          "metadata": {
            "tags": []
          },
          "execution_count": 48
        }
      ]
    },
    {
      "cell_type": "markdown",
      "metadata": {
        "id": "1Z2JCzO1naqc"
      },
      "source": [
        "#### **MERGING THE TRAIN DATASET** "
      ]
    },
    {
      "cell_type": "code",
      "metadata": {
        "colab": {
          "base_uri": "https://localhost:8080/",
          "height": 307
        },
        "id": "9TIdIgpToxtS",
        "outputId": "1365f0e8-33b4-4e93-9109-5780bd0577b2"
      },
      "source": [
        "# Merging the train dataset with the relevant columns\n",
        "\n",
        "# adopting the site type column to the train dataset\n",
        "df=pd.merge(site[['site_code','site_type']],df,how='inner',left_on=['site_code'],right_on=['site_code'])\n",
        "\n",
        "# adopting the product type column to the train dataset\n",
        "df = pd.merge(prod[['product_code','product_type']],df,how='inner',left_on=['product_code'],right_on=['product_code'])\n",
        "\n",
        "# dropping the product code column\n",
        "df.drop(columns=['product_code'], axis = 1, inplace=True)\n",
        "\n",
        "df.head(5)"
      ],
      "execution_count": null,
      "outputs": [
        {
          "output_type": "execute_result",
          "data": {
            "text/html": [
              "<div>\n",
              "<style scoped>\n",
              "    .dataframe tbody tr th:only-of-type {\n",
              "        vertical-align: middle;\n",
              "    }\n",
              "\n",
              "    .dataframe tbody tr th {\n",
              "        vertical-align: top;\n",
              "    }\n",
              "\n",
              "    .dataframe thead th {\n",
              "        text-align: right;\n",
              "    }\n",
              "</style>\n",
              "<table border=\"1\" class=\"dataframe\">\n",
              "  <thead>\n",
              "    <tr style=\"text-align: right;\">\n",
              "      <th></th>\n",
              "      <th>product_type</th>\n",
              "      <th>site_code</th>\n",
              "      <th>site_type</th>\n",
              "      <th>year</th>\n",
              "      <th>month</th>\n",
              "      <th>region</th>\n",
              "      <th>district</th>\n",
              "      <th>stock_initial</th>\n",
              "      <th>stock_received</th>\n",
              "      <th>stock_distributed</th>\n",
              "      <th>stock_adjustment</th>\n",
              "      <th>stock_end</th>\n",
              "      <th>average_monthly_consumption</th>\n",
              "      <th>stock_stockout_days</th>\n",
              "      <th>stock_ordered</th>\n",
              "    </tr>\n",
              "  </thead>\n",
              "  <tbody>\n",
              "    <tr>\n",
              "      <th>0</th>\n",
              "      <td>Female Condom</td>\n",
              "      <td>C4001</td>\n",
              "      <td>Hospital</td>\n",
              "      <td>2016</td>\n",
              "      <td>1</td>\n",
              "      <td>INDENIE-DJUABLIN</td>\n",
              "      <td>ABENGOUROU</td>\n",
              "      <td>0</td>\n",
              "      <td>0</td>\n",
              "      <td>0</td>\n",
              "      <td>0</td>\n",
              "      <td>0</td>\n",
              "      <td>0</td>\n",
              "      <td>0</td>\n",
              "      <td>0.0</td>\n",
              "    </tr>\n",
              "    <tr>\n",
              "      <th>1</th>\n",
              "      <td>Female Condom</td>\n",
              "      <td>C2002</td>\n",
              "      <td>Hospital</td>\n",
              "      <td>2017</td>\n",
              "      <td>1</td>\n",
              "      <td>MARAHOUE</td>\n",
              "      <td>BOUAFLE</td>\n",
              "      <td>0</td>\n",
              "      <td>0</td>\n",
              "      <td>0</td>\n",
              "      <td>0</td>\n",
              "      <td>0</td>\n",
              "      <td>0</td>\n",
              "      <td>0</td>\n",
              "      <td>0.0</td>\n",
              "    </tr>\n",
              "    <tr>\n",
              "      <th>2</th>\n",
              "      <td>Female Condom</td>\n",
              "      <td>C2002</td>\n",
              "      <td>Hospital</td>\n",
              "      <td>2017</td>\n",
              "      <td>2</td>\n",
              "      <td>MARAHOUE</td>\n",
              "      <td>BOUAFLE</td>\n",
              "      <td>0</td>\n",
              "      <td>0</td>\n",
              "      <td>0</td>\n",
              "      <td>0</td>\n",
              "      <td>0</td>\n",
              "      <td>0</td>\n",
              "      <td>0</td>\n",
              "      <td>0.0</td>\n",
              "    </tr>\n",
              "    <tr>\n",
              "      <th>3</th>\n",
              "      <td>Female Condom</td>\n",
              "      <td>C2002</td>\n",
              "      <td>Hospital</td>\n",
              "      <td>2017</td>\n",
              "      <td>3</td>\n",
              "      <td>MARAHOUE</td>\n",
              "      <td>BOUAFLE</td>\n",
              "      <td>0</td>\n",
              "      <td>0</td>\n",
              "      <td>0</td>\n",
              "      <td>0</td>\n",
              "      <td>0</td>\n",
              "      <td>0</td>\n",
              "      <td>0</td>\n",
              "      <td>0.0</td>\n",
              "    </tr>\n",
              "    <tr>\n",
              "      <th>4</th>\n",
              "      <td>Female Condom</td>\n",
              "      <td>C2002</td>\n",
              "      <td>Hospital</td>\n",
              "      <td>2017</td>\n",
              "      <td>4</td>\n",
              "      <td>MARAHOUE</td>\n",
              "      <td>BOUAFLE</td>\n",
              "      <td>0</td>\n",
              "      <td>0</td>\n",
              "      <td>0</td>\n",
              "      <td>0</td>\n",
              "      <td>0</td>\n",
              "      <td>0</td>\n",
              "      <td>0</td>\n",
              "      <td>0.0</td>\n",
              "    </tr>\n",
              "  </tbody>\n",
              "</table>\n",
              "</div>"
            ],
            "text/plain": [
              "    product_type site_code  ... stock_stockout_days  stock_ordered\n",
              "0  Female Condom     C4001  ...                   0            0.0\n",
              "1  Female Condom     C2002  ...                   0            0.0\n",
              "2  Female Condom     C2002  ...                   0            0.0\n",
              "3  Female Condom     C2002  ...                   0            0.0\n",
              "4  Female Condom     C2002  ...                   0            0.0\n",
              "\n",
              "[5 rows x 15 columns]"
            ]
          },
          "metadata": {
            "tags": []
          },
          "execution_count": 49
        }
      ]
    },
    {
      "cell_type": "markdown",
      "metadata": {
        "id": "wBrpXhg5nnBG"
      },
      "source": [
        "## **DATA CLEANING**"
      ]
    },
    {
      "cell_type": "markdown",
      "metadata": {
        "id": "hEeE_Uz4nvb-"
      },
      "source": [
        "### **REMOVING DUPLICATES**\n"
      ]
    },
    {
      "cell_type": "code",
      "metadata": {
        "colab": {
          "base_uri": "https://localhost:8080/"
        },
        "id": "g9K39YetoTZ-",
        "outputId": "19193c95-76fe-46ef-9291-ab1f5340987b"
      },
      "source": [
        "# Check for the consistency in our data\n",
        "print('annual\\n',annual.duplicated().sum())\n",
        "print('monthly\\n',monthly.duplicated().sum())\n",
        "print('train\\n',df.duplicated().sum())\n"
      ],
      "execution_count": null,
      "outputs": [
        {
          "output_type": "stream",
          "text": [
            "annual\n",
            " 0\n",
            "monthly\n",
            " 0\n",
            "train\n",
            " 396\n"
          ],
          "name": "stdout"
        }
      ]
    },
    {
      "cell_type": "markdown",
      "metadata": {
        "id": "Hme2XuGroRKB"
      },
      "source": [
        "### **DEALING WITH MISSING VALUES**"
      ]
    },
    {
      "cell_type": "markdown",
      "metadata": {
        "id": "YKZHEuhloRKD"
      },
      "source": [
        "##### **ANNUAL DATASET**"
      ]
    },
    {
      "cell_type": "code",
      "metadata": {
        "colab": {
          "base_uri": "https://localhost:8080/"
        },
        "id": "HhQ7_0f3oRKF",
        "outputId": "11e568c8-5216-4aec-bc36-fc2324c7310a"
      },
      "source": [
        "#Calaculating the percentage of missing values and then visualising it \n",
        "# Count the missing values\n",
        "missing_count = annual.isnull().sum() \n",
        "#the count of all values\n",
        "value_count = annual.isnull().count() \n",
        "#the percetage of missing values\n",
        "missing_percentage = round(missing_count / value_count * 100,2) \n",
        "#Cretaing a dataframe\n",
        "missing_df = pd.DataFrame({'count' : missing_count, 'percentage' : missing_percentage}) \n",
        "print(missing_df)"
      ],
      "execution_count": null,
      "outputs": [
        {
          "output_type": "stream",
          "text": [
            "                             count  percentage\n",
            "district                         0        0.00\n",
            "year                             0        0.00\n",
            "implant_women_old               13        3.83\n",
            "implant_women_new                2        0.59\n",
            "injection2_women_old             2        0.59\n",
            "injection2_women_new             5        1.47\n",
            "injection3_women_old             0        0.00\n",
            "injection3_women_new             0        0.00\n",
            "pill_women_old                   0        0.00\n",
            "pill_women_new                   1        0.29\n",
            "iud_women_old                  127       37.46\n",
            "iud_women_new                   62       18.29\n",
            "iud_number_dispensed           106       31.27\n",
            "implant_number_dispensed         6        1.77\n",
            "injection2_number_dispensed      8        2.36\n",
            "injection3_number_dispensed      1        0.29\n",
            "pill_number_dispensed            5        1.47\n",
            "iud_number_received             94       27.73\n",
            "implant_number_received          6        1.77\n",
            "injection2_number_received      11        3.24\n",
            "injection3_number_received       2        0.59\n",
            "pill_number_received             7        2.06\n",
            "iud_stock_end                  339      100.00\n",
            "implant_stock_end               73       21.53\n",
            "injection2_stock_end           339      100.00\n",
            "injection3_stock_end            68       20.06\n",
            "pill_stock_end                  73       21.53\n"
          ],
          "name": "stdout"
        }
      ]
    },
    {
      "cell_type": "code",
      "metadata": {
        "id": "4DYi9yAkoRKH"
      },
      "source": [
        "#Dropping the iud_stock_end and injection2_stock_end\n",
        "annual.drop(columns = [\"iud_stock_end\", \"injection2_stock_end\"], inplace = True)"
      ],
      "execution_count": null,
      "outputs": []
    },
    {
      "cell_type": "code",
      "metadata": {
        "colab": {
          "base_uri": "https://localhost:8080/"
        },
        "id": "uWFdILQEoRKJ",
        "outputId": "6a4a7ff4-76ed-41f6-8850-41efc9e32b39"
      },
      "source": [
        "# filling the null values with zero\n",
        "annual.fillna(0, inplace=True)\n",
        "annual.isnull().sum()"
      ],
      "execution_count": null,
      "outputs": [
        {
          "output_type": "execute_result",
          "data": {
            "text/plain": [
              "district                       0\n",
              "year                           0\n",
              "implant_women_old              0\n",
              "implant_women_new              0\n",
              "injection2_women_old           0\n",
              "injection2_women_new           0\n",
              "injection3_women_old           0\n",
              "injection3_women_new           0\n",
              "pill_women_old                 0\n",
              "pill_women_new                 0\n",
              "iud_women_old                  0\n",
              "iud_women_new                  0\n",
              "iud_number_dispensed           0\n",
              "implant_number_dispensed       0\n",
              "injection2_number_dispensed    0\n",
              "injection3_number_dispensed    0\n",
              "pill_number_dispensed          0\n",
              "iud_number_received            0\n",
              "implant_number_received        0\n",
              "injection2_number_received     0\n",
              "injection3_number_received     0\n",
              "pill_number_received           0\n",
              "implant_stock_end              0\n",
              "injection3_stock_end           0\n",
              "pill_stock_end                 0\n",
              "dtype: int64"
            ]
          },
          "metadata": {
            "tags": []
          },
          "execution_count": 53
        }
      ]
    },
    {
      "cell_type": "markdown",
      "metadata": {
        "id": "JjiR30S0d9-5"
      },
      "source": [
        "* We dropped the rows that had no entries recorded (100% missing values) and proceeded to fill the rest of the columns with zeros."
      ]
    },
    {
      "cell_type": "markdown",
      "metadata": {
        "id": "6s7_JDgxoRKN"
      },
      "source": [
        "##### **MONTHLY DATASET**"
      ]
    },
    {
      "cell_type": "code",
      "metadata": {
        "colab": {
          "base_uri": "https://localhost:8080/"
        },
        "id": "Od7WvcDioRKP",
        "outputId": "5d471b4e-110a-4af8-8e90-b6967002f9b2"
      },
      "source": [
        "#Calaculating the percentage of missing values and the visualising it \n",
        "# Count the missing values\n",
        "missing_count = monthly.isnull().sum() \n",
        "#the count of all values\n",
        "value_count = monthly.isnull().count() \n",
        "#the percetage of missing values\n",
        "missing_percentage = round(missing_count / value_count * 100,2) \n",
        "#Cretaing a dataframe\n",
        "missing_df = pd.DataFrame({'count' : missing_count, 'percentage' : missing_percentage}) \n",
        "print(missing_df)"
      ],
      "execution_count": null,
      "outputs": [
        {
          "output_type": "stream",
          "text": [
            "                             count  percentage\n",
            "district                         0        0.00\n",
            "month                            0        0.00\n",
            "year                             0        0.00\n",
            "implant_women_old               68       10.03\n",
            "implant_women_new                6        0.88\n",
            "injection2_women_old           122       17.99\n",
            "injection2_women_new           197       29.06\n",
            "injection3_women_old             0        0.00\n",
            "injection3_women_new             0        0.00\n",
            "pill_women_old                  57        8.41\n",
            "pill_women_new                  83       12.24\n",
            "iud_women_old                  428       63.13\n",
            "iud_women_new                  372       54.87\n",
            "iud_number_dispensed           429       63.27\n",
            "implant_number_dispensed        29        4.28\n",
            "injection2_number_dispensed    170       25.07\n",
            "injection3_number_dispensed     16        2.36\n",
            "pill_number_dispensed           63        9.29\n",
            "iud_number_received            344       50.74\n",
            "implant_number_received         35        5.16\n",
            "injection2_number_received     182       26.84\n",
            "injection3_number_received      21        3.10\n",
            "pill_number_received            63        9.29\n",
            "iud_stock_end                  678      100.00\n",
            "implant_stock_end               33        4.87\n",
            "injection2_stock_end           678      100.00\n",
            "injection3_stock_end            19        2.80\n",
            "pill_stock_end                  52        7.67\n"
          ],
          "name": "stdout"
        }
      ]
    },
    {
      "cell_type": "code",
      "metadata": {
        "id": "Unbe2lrGoRKS"
      },
      "source": [
        "#Dropping the iud_stock_end and injection2_stock_end\n",
        "monthly.drop(columns = [\"iud_stock_end\", \"injection2_stock_end\"], inplace = True)"
      ],
      "execution_count": null,
      "outputs": []
    },
    {
      "cell_type": "code",
      "metadata": {
        "colab": {
          "base_uri": "https://localhost:8080/"
        },
        "id": "c_8BsG4WoRKT",
        "outputId": "6bd8322b-c601-4650-8859-bf1a5ceb7049"
      },
      "source": [
        "# filling the null values with zero\n",
        "monthly.fillna(0, inplace=True)\n",
        "monthly.isnull().sum()"
      ],
      "execution_count": null,
      "outputs": [
        {
          "output_type": "execute_result",
          "data": {
            "text/plain": [
              "district                       0\n",
              "month                          0\n",
              "year                           0\n",
              "implant_women_old              0\n",
              "implant_women_new              0\n",
              "injection2_women_old           0\n",
              "injection2_women_new           0\n",
              "injection3_women_old           0\n",
              "injection3_women_new           0\n",
              "pill_women_old                 0\n",
              "pill_women_new                 0\n",
              "iud_women_old                  0\n",
              "iud_women_new                  0\n",
              "iud_number_dispensed           0\n",
              "implant_number_dispensed       0\n",
              "injection2_number_dispensed    0\n",
              "injection3_number_dispensed    0\n",
              "pill_number_dispensed          0\n",
              "iud_number_received            0\n",
              "implant_number_received        0\n",
              "injection2_number_received     0\n",
              "injection3_number_received     0\n",
              "pill_number_received           0\n",
              "implant_stock_end              0\n",
              "injection3_stock_end           0\n",
              "pill_stock_end                 0\n",
              "dtype: int64"
            ]
          },
          "metadata": {
            "tags": []
          },
          "execution_count": 56
        }
      ]
    },
    {
      "cell_type": "markdown",
      "metadata": {
        "id": "qWJPkc0yernt"
      },
      "source": [
        "* We dropped the rows that had no entries recorded (100% missing values) and proceeded to fill the rest of the columns with zeros."
      ]
    },
    {
      "cell_type": "markdown",
      "metadata": {
        "id": "3Jpaua5goRKW"
      },
      "source": [
        "##### **TRAIN DATASET**"
      ]
    },
    {
      "cell_type": "code",
      "metadata": {
        "colab": {
          "base_uri": "https://localhost:8080/"
        },
        "id": "38J7BuSDoRKY",
        "outputId": "7a64a2fa-b1c0-45a7-bb22-4962d1c1ebeb"
      },
      "source": [
        "#Calaculating the percentage of missing values and the visualising it \n",
        "# Count the missing values\n",
        "missing_count = df.isnull().sum() \n",
        "#the count of all values\n",
        "value_count = df.isnull().count() \n",
        "#the percetage of missing values\n",
        "missing_percentage = round(missing_count / value_count * 100,2) \n",
        "#Cretaing a dataframe\n",
        "missing_df = pd.DataFrame({'count' : missing_count, 'percentage' : missing_percentage}) \n",
        "print(missing_df)"
      ],
      "execution_count": null,
      "outputs": [
        {
          "output_type": "stream",
          "text": [
            "                             count  percentage\n",
            "product_type                     0        0.00\n",
            "site_code                        0        0.00\n",
            "site_type                        0        0.00\n",
            "year                             0        0.00\n",
            "month                            0        0.00\n",
            "region                           0        0.00\n",
            "district                         0        0.00\n",
            "stock_initial                    0        0.00\n",
            "stock_received                   0        0.00\n",
            "stock_distributed                0        0.00\n",
            "stock_adjustment                 0        0.00\n",
            "stock_end                        0        0.00\n",
            "average_monthly_consumption      0        0.00\n",
            "stock_stockout_days              0        0.00\n",
            "stock_ordered                  763        2.13\n"
          ],
          "name": "stdout"
        }
      ]
    },
    {
      "cell_type": "markdown",
      "metadata": {
        "id": "FWgu-MQ1jl-u"
      },
      "source": [
        "### **TAKING CARE OF THE INVALID ZEROS IN OUR DATASET**\n"
      ]
    },
    {
      "cell_type": "markdown",
      "metadata": {
        "id": "8ufwD8cxjl-v"
      },
      "source": [
        "These invalid 0 values may be identified, for example, when:\n",
        "\n",
        "A) Stock_distributed for a contraceptive product at a service delivery site is reported in a given month as '0', even though stock was available (stock_initial was above 0) and stock_distributed is historically well above 0.\n",
        "\n",
        "B) All fields (possibly with the exception of stock_ordered) are recorded as '0' for a given contraceptive product, month and service delivery site; or"
      ]
    },
    {
      "cell_type": "markdown",
      "metadata": {
        "id": "sKe9QtUTQSGf"
      },
      "source": [
        "FULLFILLING THE FIRST CONDITION"
      ]
    },
    {
      "cell_type": "code",
      "metadata": {
        "id": "vxc-pUqVjl-v"
      },
      "source": [
        "# Defining a function that takes the conditions listed above and fills invalid zeros with a ?\n",
        "def invalid(stock_initial, stock_received , stock_adjustment, stock_end, average_monthly_consumption, stock_ordered, stock_distributed):\n",
        "    if stock_initial > 0 and average_monthly_consumption > 0 and stock_distributed == 0:\n",
        "      stock_distributed = '?' \n",
        "    else:\n",
        "        stock_distributed=stock_distributed\n",
        "    return stock_distributed\n",
        "              \n",
        "\n",
        "#Mapping our function onto a new column\n",
        "df['NewColumn_1'] = df.apply(lambda x: invalid(x['stock_initial'], x['stock_received'], x['stock_adjustment'], x['stock_end'],\n",
        "                                               x['average_monthly_consumption'], x['stock_ordered'], x[\"stock_distributed\"]), axis=1)\n",
        "df.replace('?', np.nan, inplace=True)\n",
        "df.rename(columns={\"NewColumn_1\" : \"stock_distributed2\"}, inplace = True)"
      ],
      "execution_count": null,
      "outputs": []
    },
    {
      "cell_type": "code",
      "metadata": {
        "colab": {
          "base_uri": "https://localhost:8080/"
        },
        "id": "nT6BrqMOjl-w",
        "outputId": "6e7a4dff-64ed-4126-cdca-ac22499c83cd"
      },
      "source": [
        "#Cheking missing values on our columns\n",
        "df.isnull().sum()"
      ],
      "execution_count": null,
      "outputs": [
        {
          "output_type": "execute_result",
          "data": {
            "text/plain": [
              "product_type                      0\n",
              "site_code                         0\n",
              "site_type                         0\n",
              "year                              0\n",
              "month                             0\n",
              "region                            0\n",
              "district                          0\n",
              "stock_initial                     0\n",
              "stock_received                    0\n",
              "stock_distributed                 0\n",
              "stock_adjustment                  0\n",
              "stock_end                         0\n",
              "average_monthly_consumption       0\n",
              "stock_stockout_days               0\n",
              "stock_ordered                   763\n",
              "stock_distributed2             2858\n",
              "dtype: int64"
            ]
          },
          "metadata": {
            "tags": []
          },
          "execution_count": 59
        }
      ]
    },
    {
      "cell_type": "code",
      "metadata": {
        "colab": {
          "base_uri": "https://localhost:8080/"
        },
        "id": "DbgxYMUwRGiw",
        "outputId": "f04f631f-3751-42f8-88de-e2ea9681f639"
      },
      "source": [
        "#Filling null values with the mode\n",
        "df[\"stock_ordered\"].fillna(df[\"stock_ordered\"].mode()[0], inplace = True)\n",
        "\n",
        "# Cheking if null values have been replaced with the mode\n",
        "df.isnull().sum()"
      ],
      "execution_count": null,
      "outputs": [
        {
          "output_type": "execute_result",
          "data": {
            "text/plain": [
              "product_type                      0\n",
              "site_code                         0\n",
              "site_type                         0\n",
              "year                              0\n",
              "month                             0\n",
              "region                            0\n",
              "district                          0\n",
              "stock_initial                     0\n",
              "stock_received                    0\n",
              "stock_distributed                 0\n",
              "stock_adjustment                  0\n",
              "stock_end                         0\n",
              "average_monthly_consumption       0\n",
              "stock_stockout_days               0\n",
              "stock_ordered                     0\n",
              "stock_distributed2             2858\n",
              "dtype: int64"
            ]
          },
          "metadata": {
            "tags": []
          },
          "execution_count": 60
        }
      ]
    },
    {
      "cell_type": "markdown",
      "metadata": {
        "id": "HDAFGGboP1OI"
      },
      "source": [
        "CONVERTING TO DATETIME"
      ]
    },
    {
      "cell_type": "code",
      "metadata": {
        "id": "OAftBHzfcudn",
        "colab": {
          "base_uri": "https://localhost:8080/",
          "height": 338
        },
        "outputId": "f5c72010-92c3-41f0-aaff-8a641b8abdc6"
      },
      "source": [
        "#convert to date time\n",
        "df['date'] = df['year'].astype(str) + '-' + df['month'].astype(str)\n",
        "\n",
        "df['date'] = pd.to_datetime(df['date'],yearfirst=True)\n",
        "\n",
        "df = df.set_index('date')\n",
        "df.head()"
      ],
      "execution_count": null,
      "outputs": [
        {
          "output_type": "execute_result",
          "data": {
            "text/html": [
              "<div>\n",
              "<style scoped>\n",
              "    .dataframe tbody tr th:only-of-type {\n",
              "        vertical-align: middle;\n",
              "    }\n",
              "\n",
              "    .dataframe tbody tr th {\n",
              "        vertical-align: top;\n",
              "    }\n",
              "\n",
              "    .dataframe thead th {\n",
              "        text-align: right;\n",
              "    }\n",
              "</style>\n",
              "<table border=\"1\" class=\"dataframe\">\n",
              "  <thead>\n",
              "    <tr style=\"text-align: right;\">\n",
              "      <th></th>\n",
              "      <th>product_type</th>\n",
              "      <th>site_code</th>\n",
              "      <th>site_type</th>\n",
              "      <th>year</th>\n",
              "      <th>month</th>\n",
              "      <th>region</th>\n",
              "      <th>district</th>\n",
              "      <th>stock_initial</th>\n",
              "      <th>stock_received</th>\n",
              "      <th>stock_distributed</th>\n",
              "      <th>stock_adjustment</th>\n",
              "      <th>stock_end</th>\n",
              "      <th>average_monthly_consumption</th>\n",
              "      <th>stock_stockout_days</th>\n",
              "      <th>stock_ordered</th>\n",
              "      <th>stock_distributed2</th>\n",
              "    </tr>\n",
              "    <tr>\n",
              "      <th>date</th>\n",
              "      <th></th>\n",
              "      <th></th>\n",
              "      <th></th>\n",
              "      <th></th>\n",
              "      <th></th>\n",
              "      <th></th>\n",
              "      <th></th>\n",
              "      <th></th>\n",
              "      <th></th>\n",
              "      <th></th>\n",
              "      <th></th>\n",
              "      <th></th>\n",
              "      <th></th>\n",
              "      <th></th>\n",
              "      <th></th>\n",
              "      <th></th>\n",
              "    </tr>\n",
              "  </thead>\n",
              "  <tbody>\n",
              "    <tr>\n",
              "      <th>2016-01-01</th>\n",
              "      <td>Female Condom</td>\n",
              "      <td>C4001</td>\n",
              "      <td>Hospital</td>\n",
              "      <td>2016</td>\n",
              "      <td>1</td>\n",
              "      <td>INDENIE-DJUABLIN</td>\n",
              "      <td>ABENGOUROU</td>\n",
              "      <td>0</td>\n",
              "      <td>0</td>\n",
              "      <td>0</td>\n",
              "      <td>0</td>\n",
              "      <td>0</td>\n",
              "      <td>0</td>\n",
              "      <td>0</td>\n",
              "      <td>0.0</td>\n",
              "      <td>0.0</td>\n",
              "    </tr>\n",
              "    <tr>\n",
              "      <th>2017-01-01</th>\n",
              "      <td>Female Condom</td>\n",
              "      <td>C2002</td>\n",
              "      <td>Hospital</td>\n",
              "      <td>2017</td>\n",
              "      <td>1</td>\n",
              "      <td>MARAHOUE</td>\n",
              "      <td>BOUAFLE</td>\n",
              "      <td>0</td>\n",
              "      <td>0</td>\n",
              "      <td>0</td>\n",
              "      <td>0</td>\n",
              "      <td>0</td>\n",
              "      <td>0</td>\n",
              "      <td>0</td>\n",
              "      <td>0.0</td>\n",
              "      <td>0.0</td>\n",
              "    </tr>\n",
              "    <tr>\n",
              "      <th>2017-02-01</th>\n",
              "      <td>Female Condom</td>\n",
              "      <td>C2002</td>\n",
              "      <td>Hospital</td>\n",
              "      <td>2017</td>\n",
              "      <td>2</td>\n",
              "      <td>MARAHOUE</td>\n",
              "      <td>BOUAFLE</td>\n",
              "      <td>0</td>\n",
              "      <td>0</td>\n",
              "      <td>0</td>\n",
              "      <td>0</td>\n",
              "      <td>0</td>\n",
              "      <td>0</td>\n",
              "      <td>0</td>\n",
              "      <td>0.0</td>\n",
              "      <td>0.0</td>\n",
              "    </tr>\n",
              "    <tr>\n",
              "      <th>2017-03-01</th>\n",
              "      <td>Female Condom</td>\n",
              "      <td>C2002</td>\n",
              "      <td>Hospital</td>\n",
              "      <td>2017</td>\n",
              "      <td>3</td>\n",
              "      <td>MARAHOUE</td>\n",
              "      <td>BOUAFLE</td>\n",
              "      <td>0</td>\n",
              "      <td>0</td>\n",
              "      <td>0</td>\n",
              "      <td>0</td>\n",
              "      <td>0</td>\n",
              "      <td>0</td>\n",
              "      <td>0</td>\n",
              "      <td>0.0</td>\n",
              "      <td>0.0</td>\n",
              "    </tr>\n",
              "    <tr>\n",
              "      <th>2017-04-01</th>\n",
              "      <td>Female Condom</td>\n",
              "      <td>C2002</td>\n",
              "      <td>Hospital</td>\n",
              "      <td>2017</td>\n",
              "      <td>4</td>\n",
              "      <td>MARAHOUE</td>\n",
              "      <td>BOUAFLE</td>\n",
              "      <td>0</td>\n",
              "      <td>0</td>\n",
              "      <td>0</td>\n",
              "      <td>0</td>\n",
              "      <td>0</td>\n",
              "      <td>0</td>\n",
              "      <td>0</td>\n",
              "      <td>0.0</td>\n",
              "      <td>0.0</td>\n",
              "    </tr>\n",
              "  </tbody>\n",
              "</table>\n",
              "</div>"
            ],
            "text/plain": [
              "             product_type site_code  ... stock_ordered  stock_distributed2\n",
              "date                                 ...                                  \n",
              "2016-01-01  Female Condom     C4001  ...           0.0                 0.0\n",
              "2017-01-01  Female Condom     C2002  ...           0.0                 0.0\n",
              "2017-02-01  Female Condom     C2002  ...           0.0                 0.0\n",
              "2017-03-01  Female Condom     C2002  ...           0.0                 0.0\n",
              "2017-04-01  Female Condom     C2002  ...           0.0                 0.0\n",
              "\n",
              "[5 rows x 16 columns]"
            ]
          },
          "metadata": {
            "tags": []
          },
          "execution_count": 61
        }
      ]
    },
    {
      "cell_type": "code",
      "metadata": {
        "id": "gLrSiYrkjl-x"
      },
      "source": [
        "#foward filling the stock_distributed2\n",
        "df[\"stock_distributed2\"].fillna(method = \"bfill\", inplace = True)"
      ],
      "execution_count": null,
      "outputs": []
    },
    {
      "cell_type": "code",
      "metadata": {
        "colab": {
          "base_uri": "https://localhost:8080/"
        },
        "id": "LXrwxxwRjl-x",
        "outputId": "a32c7f2b-4688-477d-cebb-0ea7cc71a05b"
      },
      "source": [
        "#checking the null values\n",
        "df.isnull().sum()"
      ],
      "execution_count": null,
      "outputs": [
        {
          "output_type": "execute_result",
          "data": {
            "text/plain": [
              "product_type                   0\n",
              "site_code                      0\n",
              "site_type                      0\n",
              "year                           0\n",
              "month                          0\n",
              "region                         0\n",
              "district                       0\n",
              "stock_initial                  0\n",
              "stock_received                 0\n",
              "stock_distributed              0\n",
              "stock_adjustment               0\n",
              "stock_end                      0\n",
              "average_monthly_consumption    0\n",
              "stock_stockout_days            0\n",
              "stock_ordered                  0\n",
              "stock_distributed2             0\n",
              "dtype: int64"
            ]
          },
          "metadata": {
            "tags": []
          },
          "execution_count": 63
        }
      ]
    },
    {
      "cell_type": "code",
      "metadata": {
        "id": "0mGDg8q4QFfK"
      },
      "source": [
        "#Dropping the stock distributed column\n",
        "df.drop(columns = [\"stock_distributed\"], inplace = True)"
      ],
      "execution_count": null,
      "outputs": []
    },
    {
      "cell_type": "markdown",
      "metadata": {
        "id": "bJfIkoVpQNp0"
      },
      "source": [
        "FULLFILLING THE SECOND CONDITION"
      ]
    },
    {
      "cell_type": "code",
      "metadata": {
        "id": "KBYHrBPfQKa0"
      },
      "source": [
        "# Defining a function that takes the conditions listed above and fills invalid zeros with a ?\n",
        "def invalid(stock_initial, stock_received , stock_adjustment, stock_end, average_monthly_consumption, stock_ordered, stock_distributed2): \n",
        "    if stock_initial == 0 and stock_received == 0 and stock_adjustment == 0 and stock_end == 0 and average_monthly_consumption == 0 and stock_ordered == 0:\n",
        "      stock_distributed2 = '?'\n",
        "      stock_initial = '?'\n",
        "      stock_received = '?'\n",
        "      stock_adjustment = '?'\n",
        "      stock_end = '?'\n",
        "      average_monthly_consumption = '?'\n",
        "      stock_ordered = '?'\n",
        "    else:\n",
        "        stock_distributed2=stock_distributed2\n",
        "        stock_initial=stock_initial\n",
        "        stock_received=stock_received\n",
        "        stock_adjustment=stock_adjustment\n",
        "        stock_end=stock_end\n",
        "        stock_ordered=stock_ordered\n",
        "        average_monthly_consumption=average_monthly_consumption\n",
        "    #Pandas Series.mean() function return the mean of the underlying data in the given Series object.\n",
        "    return pd.Series([\n",
        "                      stock_distributed2,\n",
        "                      stock_initial,\n",
        "                      stock_received,\n",
        "                      stock_adjustment,\n",
        "                      stock_end,\n",
        "                      stock_ordered,\n",
        "                      average_monthly_consumption\n",
        "    ])\n",
        "\n",
        "#Mapping our function onto a new column\n",
        "df[['NewColumn_1', 'NewColumn_2', 'NewColumn_3', 'NewColumn_4', 'NewColumn_5','NewColumn_6', 'NewColumn_7' ]] = df.apply(lambda x: invalid(x['stock_initial'], x['stock_received'], x['stock_adjustment'], x['stock_end'],\n",
        "                                               x['average_monthly_consumption'], x['stock_ordered'], x[\"stock_distributed2\"]), axis=1)\n",
        "df.replace('?', np.nan, inplace=True)\n",
        "df.rename(columns={\"NewColumn_1\" : \"stock_distributed3\"}, inplace = True)\n",
        "df.rename(columns={\"NewColumn_2\" : \"stock_initial2\"}, inplace = True)\n",
        "df.rename(columns={\"NewColumn_3\" : \"stock_received2\"}, inplace = True)\n",
        "df.rename(columns={\"NewColumn_4\" : \"stock_adjustment2\"}, inplace = True)\n",
        "df.rename(columns={\"NewColumn_5\" : \"stock_end2\"}, inplace = True)\n",
        "df.rename(columns={\"NewColumn_6\" : \"stock_ordered2\"}, inplace = True)\n",
        "df.rename(columns={\"NewColumn_7\" : \"average_monthly_consumption2\"}, inplace = True)"
      ],
      "execution_count": null,
      "outputs": []
    },
    {
      "cell_type": "code",
      "metadata": {
        "colab": {
          "base_uri": "https://localhost:8080/"
        },
        "id": "eQUARRl7TLHY",
        "outputId": "a6513dac-0b02-4a23-b791-193a951f5688"
      },
      "source": [
        "#Cheking if the null values have been chosen  \n",
        "df.isnull().sum()"
      ],
      "execution_count": null,
      "outputs": [
        {
          "output_type": "execute_result",
          "data": {
            "text/plain": [
              "product_type                       0\n",
              "site_code                          0\n",
              "site_type                          0\n",
              "year                               0\n",
              "month                              0\n",
              "region                             0\n",
              "district                           0\n",
              "stock_initial                      0\n",
              "stock_received                     0\n",
              "stock_adjustment                   0\n",
              "stock_end                          0\n",
              "average_monthly_consumption        0\n",
              "stock_stockout_days                0\n",
              "stock_ordered                      0\n",
              "stock_distributed2                 0\n",
              "stock_distributed3              4883\n",
              "stock_initial2                  4883\n",
              "stock_received2                 4883\n",
              "stock_adjustment2               4883\n",
              "stock_end2                      4883\n",
              "stock_ordered2                  4883\n",
              "average_monthly_consumption2    4883\n",
              "dtype: int64"
            ]
          },
          "metadata": {
            "tags": []
          },
          "execution_count": 66
        }
      ]
    },
    {
      "cell_type": "code",
      "metadata": {
        "id": "8w3yN8w0QKQQ"
      },
      "source": [
        "# Dropping the null values in the column\n",
        "df.dropna(axis = 0, inplace = True)"
      ],
      "execution_count": null,
      "outputs": []
    },
    {
      "cell_type": "code",
      "metadata": {
        "id": "DL9AQ1nlQKKn"
      },
      "source": [
        "# Dropping the unecessary column \n",
        "df.drop(columns = [\"stock_initial\", 'stock_received', 'stock_distributed2',\n",
        "       'stock_adjustment', 'stock_end', 'average_monthly_consumption',\n",
        "       'stock_ordered'], inplace = True)"
      ],
      "execution_count": null,
      "outputs": []
    },
    {
      "cell_type": "code",
      "metadata": {
        "colab": {
          "base_uri": "https://localhost:8080/"
        },
        "id": "0yxf_dmYQadf",
        "outputId": "5b7da543-81f4-4040-d577-6a2e5e1b6b87"
      },
      "source": [
        "#Cheking to see whether the null values have been dropped\n",
        "df.isnull().sum()"
      ],
      "execution_count": null,
      "outputs": [
        {
          "output_type": "execute_result",
          "data": {
            "text/plain": [
              "product_type                    0\n",
              "site_code                       0\n",
              "site_type                       0\n",
              "year                            0\n",
              "month                           0\n",
              "region                          0\n",
              "district                        0\n",
              "stock_stockout_days             0\n",
              "stock_distributed3              0\n",
              "stock_initial2                  0\n",
              "stock_received2                 0\n",
              "stock_adjustment2               0\n",
              "stock_end2                      0\n",
              "stock_ordered2                  0\n",
              "average_monthly_consumption2    0\n",
              "dtype: int64"
            ]
          },
          "metadata": {
            "tags": []
          },
          "execution_count": 69
        }
      ]
    },
    {
      "cell_type": "markdown",
      "metadata": {
        "id": "K0v8OgNGTjPA"
      },
      "source": [
        "### **CHECKING FOR OUTLIERS**"
      ]
    },
    {
      "cell_type": "code",
      "metadata": {
        "colab": {
          "base_uri": "https://localhost:8080/"
        },
        "id": "SxDUt2Gz5j9q",
        "outputId": "b2cfb0e8-720b-4fa8-bd41-cc11c6b67100"
      },
      "source": [
        "# Checking for outliers for numeric variables\n",
        "import seaborn as sns\n",
        "cols = ['stock_initial', 'stock_received', 'stock_adjustment', 'stock_end',\n",
        "       'average_monthly_consumption', 'stock_ordered', 'stock_distributed2']\n",
        "\n",
        "fig, axs = plt.subplots(len(cols), figsize=(6,44))\n",
        "\n",
        "for i, col_val in enumerate(cols):\n",
        "    sns.boxplot(y=df[col_val], ax=axs[i])\n",
        "    axs[i].set_xlabel(col_val, fontsize=10)"
      ],
      "execution_count": null,
      "outputs": [
        {
          "output_type": "display_data",
          "data": {
            "image/png": "[encoded data removed]",
            "text/plain": [
              "<Figure size 432x3168 with 7 Axes>"
            ]
          },
          "metadata": {
            "tags": [],
            "needs_background": "light"
          }
        }
      ]
    },
    {
      "cell_type": "markdown",
      "metadata": {
        "id": "7SMXVlkyMMyD"
      },
      "source": [
        "The Number of outliers after dropping is quite significant so we won't drop the outliers because we may lose valuable information, we will consider log transformation instead for this case of our dataset"
      ]
    },
    {
      "cell_type": "code",
      "metadata": {
        "id": "enLPxSnROohX"
      },
      "source": [
        "#Exporting to csv\n",
        "annual.to_csv(\"Contraceptive_case_data_annual_cleaned.csv\")\n",
        "\n",
        "df.to_csv(\"train_cleaned.csv\")\n",
        "\n",
        "monthly.to_csv(\"monthly_cleaned.csv\")"
      ],
      "execution_count": null,
      "outputs": []
    },
    {
      "cell_type": "markdown",
      "metadata": {
        "id": "Ru9zk5PDsp4m"
      },
      "source": [
        "## **EXPLORATORY DATA ANALYSIS**"
      ]
    },
    {
      "cell_type": "markdown",
      "metadata": {
        "id": "ORwiy0OmzsNt"
      },
      "source": [
        "### **DISTRIBUTION PLOTS**"
      ]
    },
    {
      "cell_type": "code",
      "metadata": {
        "colab": {
          "base_uri": "https://localhost:8080/",
          "height": 1000
        },
        "id": "h1liSn9OMeC5",
        "outputId": "8bc134da-be69-4f32-d602-3b568768a543"
      },
      "source": [
        "# Train Dataset\n",
        "import seaborn as sns\n",
        "cols = ['stock_initial', 'stock_received', 'stock_adjustment', 'stock_end',\n",
        "       'average_monthly_consumption', 'stock_ordered', 'stock_distributed2']\n",
        "\n",
        "fig, axs = plt.subplots(len(cols), figsize=(6,44))\n",
        "\n",
        "for i, col_val in enumerate(cols):\n",
        "    sns.distplot(df[col_val], ax=axs[i])\n",
        "    axs[i].set_xlabel(col_val, fontsize=10)"
      ],
      "execution_count": null,
      "outputs": [
        {
          "output_type": "display_data",
          "data": {
            "image/png": "[encoded data removed]",
            "text/plain": [
              "<Figure size 432x3168 with 7 Axes>"
            ]
          },
          "metadata": {
            "tags": [],
            "needs_background": "light"
          }
        }
      ]
    },
    {
      "cell_type": "code",
      "metadata": {
        "colab": {
          "base_uri": "https://localhost:8080/",
          "height": 1000
        },
        "id": "C0rPonOwMchH",
        "outputId": "2aa5744c-a762-4e17-e54e-c10c52ceeed3"
      },
      "source": [
        "# Annual Dataset\n",
        "import seaborn as sns\n",
        "cols = ['implant_women_old', 'implant_women_new',\n",
        "       'injection2_women_old', 'injection2_women_new', 'injection3_women_old',\n",
        "       'injection3_women_new', 'pill_women_old', 'pill_women_new',\n",
        "       'iud_women_old', 'iud_women_new', 'iud_number_dispensed',\n",
        "       'implant_number_dispensed', 'injection2_number_dispensed',\n",
        "       'injection3_number_dispensed', 'pill_number_dispensed']\n",
        "\n",
        "fig, axs = plt.subplots(len(cols), figsize=(6,44))\n",
        "\n",
        "for i, col_val in enumerate(cols):\n",
        "    sns.distplot(annual[col_val], ax=axs[i])\n",
        "    axs[i].set_xlabel(col_val, fontsize=10)"
      ],
      "execution_count": null,
      "outputs": [
        {
          "output_type": "display_data",
          "data": {
            "image/png": "[encoded data removed]",
            "text/plain": [
              "<Figure size 432x3168 with 15 Axes>"
            ]
          },
          "metadata": {
            "tags": [],
            "needs_background": "light"
          }
        }
      ]
    },
    {
      "cell_type": "markdown",
      "metadata": {
        "id": "crD0Xk3Jz68W"
      },
      "source": [
        "### **UNIVARIATE DATA ANALYSIS**"
      ]
    },
    {
      "cell_type": "markdown",
      "metadata": {
        "id": "XyOkpG_8dBHi"
      },
      "source": [
        "#### **MEASURES OF CENTRAL TENDENCY**"
      ]
    },
    {
      "cell_type": "code",
      "metadata": {
        "colab": {
          "base_uri": "https://localhost:8080/"
        },
        "id": "AgWUCw2cc_rs",
        "outputId": "15fed9b0-2ef8-4d7d-d8f0-4e1989bbcbf1"
      },
      "source": [
        "# Finding the mean of our numerical variables\n",
        "# Train\n",
        "\n",
        "num = df[['stock_initial', 'stock_received', 'stock_adjustment', 'stock_end',\n",
        "       'average_monthly_consumption', 'stock_ordered', 'stock_distributed2']]\n",
        "\n",
        "num.mean()"
      ],
      "execution_count": null,
      "outputs": [
        {
          "output_type": "execute_result",
          "data": {
            "text/plain": [
              "stock_initial                  61.330719\n",
              "stock_received                 15.455601\n",
              "stock_adjustment                1.191275\n",
              "stock_end                      61.930506\n",
              "average_monthly_consumption    14.827633\n",
              "stock_ordered                  27.761332\n",
              "stock_distributed2             16.047089\n",
              "dtype: float64"
            ]
          },
          "metadata": {
            "tags": []
          },
          "execution_count": 33
        }
      ]
    },
    {
      "cell_type": "code",
      "metadata": {
        "colab": {
          "base_uri": "https://localhost:8080/",
          "height": 80
        },
        "id": "5vli_5aYeZFQ",
        "outputId": "3da03946-2a0c-45b2-abab-c58047558425"
      },
      "source": [
        "# Finding the mode of our numerical variables\n",
        "\n",
        "num.mode()"
      ],
      "execution_count": null,
      "outputs": [
        {
          "output_type": "execute_result",
          "data": {
            "text/html": [
              "<div>\n",
              "<style scoped>\n",
              "    .dataframe tbody tr th:only-of-type {\n",
              "        vertical-align: middle;\n",
              "    }\n",
              "\n",
              "    .dataframe tbody tr th {\n",
              "        vertical-align: top;\n",
              "    }\n",
              "\n",
              "    .dataframe thead th {\n",
              "        text-align: right;\n",
              "    }\n",
              "</style>\n",
              "<table border=\"1\" class=\"dataframe\">\n",
              "  <thead>\n",
              "    <tr style=\"text-align: right;\">\n",
              "      <th></th>\n",
              "      <th>stock_initial</th>\n",
              "      <th>stock_received</th>\n",
              "      <th>stock_adjustment</th>\n",
              "      <th>stock_end</th>\n",
              "      <th>average_monthly_consumption</th>\n",
              "      <th>stock_ordered</th>\n",
              "      <th>stock_distributed2</th>\n",
              "    </tr>\n",
              "  </thead>\n",
              "  <tbody>\n",
              "    <tr>\n",
              "      <th>0</th>\n",
              "      <td>0.0</td>\n",
              "      <td>0.0</td>\n",
              "      <td>0.0</td>\n",
              "      <td>0.0</td>\n",
              "      <td>0.0</td>\n",
              "      <td>0.0</td>\n",
              "      <td>0.0</td>\n",
              "    </tr>\n",
              "  </tbody>\n",
              "</table>\n",
              "</div>"
            ],
            "text/plain": [
              "   stock_initial  stock_received  ...  stock_ordered  stock_distributed2\n",
              "0            0.0             0.0  ...            0.0                 0.0\n",
              "\n",
              "[1 rows x 7 columns]"
            ]
          },
          "metadata": {
            "tags": []
          },
          "execution_count": 34
        }
      ]
    },
    {
      "cell_type": "code",
      "metadata": {
        "colab": {
          "base_uri": "https://localhost:8080/"
        },
        "id": "HvYZxQlifvpa",
        "outputId": "c11e92e1-3df1-40a3-efb6-c135e8672098"
      },
      "source": [
        "# Finding the median \n",
        "\n",
        "num.median()"
      ],
      "execution_count": null,
      "outputs": [
        {
          "output_type": "execute_result",
          "data": {
            "text/plain": [
              "stock_initial                  10.0\n",
              "stock_received                  0.0\n",
              "stock_adjustment                0.0\n",
              "stock_end                      10.0\n",
              "average_monthly_consumption     3.0\n",
              "stock_ordered                   0.0\n",
              "stock_distributed2              2.0\n",
              "dtype: float64"
            ]
          },
          "metadata": {
            "tags": []
          },
          "execution_count": 35
        }
      ]
    },
    {
      "cell_type": "markdown",
      "metadata": {
        "id": "dQje1zl1f9cf"
      },
      "source": [
        "#### **MEASURES OF DISPERSION**"
      ]
    },
    {
      "cell_type": "code",
      "metadata": {
        "colab": {
          "base_uri": "https://localhost:8080/"
        },
        "id": "72AkC7e_f7qN",
        "outputId": "311675dc-c82c-4652-ae4d-1ec26e7c7c70"
      },
      "source": [
        "# Calculating the variance\n",
        "\n",
        "num.var()"
      ],
      "execution_count": null,
      "outputs": [
        {
          "output_type": "execute_result",
          "data": {
            "text/plain": [
              "stock_initial                  28051.345446\n",
              "stock_received                  5259.157442\n",
              "stock_adjustment                1456.977032\n",
              "stock_end                      28529.547612\n",
              "average_monthly_consumption     1098.478102\n",
              "stock_ordered                  12125.046064\n",
              "stock_distributed2              1705.260536\n",
              "dtype: float64"
            ]
          },
          "metadata": {
            "tags": []
          },
          "execution_count": 36
        }
      ]
    },
    {
      "cell_type": "code",
      "metadata": {
        "colab": {
          "base_uri": "https://localhost:8080/"
        },
        "id": "LIVla15IganO",
        "outputId": "d937ac40-dd69-4b85-fff5-7733236c682c"
      },
      "source": [
        "# Calculating the standard deviation\n",
        "\n",
        "num.std()"
      ],
      "execution_count": null,
      "outputs": [
        {
          "output_type": "execute_result",
          "data": {
            "text/plain": [
              "stock_initial                  167.485359\n",
              "stock_received                  72.520049\n",
              "stock_adjustment                38.170369\n",
              "stock_end                      168.906920\n",
              "average_monthly_consumption     33.143296\n",
              "stock_ordered                  110.113787\n",
              "stock_distributed2              41.294800\n",
              "dtype: float64"
            ]
          },
          "metadata": {
            "tags": []
          },
          "execution_count": 37
        }
      ]
    },
    {
      "cell_type": "code",
      "metadata": {
        "colab": {
          "base_uri": "https://localhost:8080/"
        },
        "id": "CF7fRwNVgs0f",
        "outputId": "dc9d62ef-d62b-46d6-c385-d07ee82c3aaa"
      },
      "source": [
        "#skewness\n",
        "def my_skew():\n",
        "  for column in df:\n",
        "    columncontent = df[column]\n",
        "    if column in num:\n",
        "      skew = columncontent.skew()\n",
        "      if skew > 0:\n",
        "        print('Positvely skewed')\n",
        "      elif skew == 0:\n",
        "        print('Symmetric skew')\n",
        "      else:\n",
        "        print('negatively skewed')\n",
        "\n",
        "      print('column name', column)\n",
        "      print('Column skew:', skew)\n",
        "      print('\\n') \n",
        "#calling\n",
        "print(my_skew())\n"
      ],
      "execution_count": null,
      "outputs": [
        {
          "output_type": "stream",
          "text": [
            "Positvely skewed\n",
            "column name stock_initial\n",
            "Column skew: 9.68058119464963\n",
            "\n",
            "\n",
            "Positvely skewed\n",
            "column name stock_received\n",
            "Column skew: 15.459484988912466\n",
            "\n",
            "\n",
            "Positvely skewed\n",
            "column name stock_adjustment\n",
            "Column skew: 25.34416200918308\n",
            "\n",
            "\n",
            "Positvely skewed\n",
            "column name stock_end\n",
            "Column skew: 9.687333999313838\n",
            "\n",
            "\n",
            "Positvely skewed\n",
            "column name average_monthly_consumption\n",
            "Column skew: 6.1341692295877905\n",
            "\n",
            "\n",
            "Positvely skewed\n",
            "column name stock_ordered\n",
            "Column skew: 39.149416770208255\n",
            "\n",
            "\n",
            "Positvely skewed\n",
            "column name stock_distributed2\n",
            "Column skew: 9.54856631249984\n",
            "\n",
            "\n",
            "None\n"
          ],
          "name": "stdout"
        }
      ]
    },
    {
      "cell_type": "code",
      "metadata": {
        "colab": {
          "base_uri": "https://localhost:8080/"
        },
        "id": "Z8A_zPlThAmp",
        "outputId": "1fbe4739-94fd-486e-e49e-cfdecd1d7b92"
      },
      "source": [
        "#kurtosis\n",
        "def kurt():\n",
        "  for column in df:\n",
        "    columncontent = df[column]\n",
        "    if column in num:\n",
        "      kurt = columncontent.kurt()\n",
        "      if kurt > 0:\n",
        "        print('Leptokurtic kurtosis')\n",
        "      elif kurt < 0:\n",
        "        print('platykurtic distribution')\n",
        "      else:\n",
        "        print('mesokurtic distribution')\n",
        "\n",
        "      print('column name', column)\n",
        "      print('Column kurt:', kurt)\n",
        "      print('\\n') \n",
        "#calling\n",
        "print(kurt())"
      ],
      "execution_count": null,
      "outputs": [
        {
          "output_type": "stream",
          "text": [
            "Leptokurtic kurtosis\n",
            "column name stock_initial\n",
            "Column kurt: 148.16266412977103\n",
            "\n",
            "\n",
            "Leptokurtic kurtosis\n",
            "column name stock_received\n",
            "Column kurt: 439.12513522618184\n",
            "\n",
            "\n",
            "Leptokurtic kurtosis\n",
            "column name stock_adjustment\n",
            "Column kurt: 2108.5245186840307\n",
            "\n",
            "\n",
            "Leptokurtic kurtosis\n",
            "column name stock_end\n",
            "Column kurt: 146.9039431964313\n",
            "\n",
            "\n",
            "Leptokurtic kurtosis\n",
            "column name average_monthly_consumption\n",
            "Column kurt: 66.79249780718085\n",
            "\n",
            "\n",
            "Leptokurtic kurtosis\n",
            "column name stock_ordered\n",
            "Column kurt: 2838.7997727208653\n",
            "\n",
            "\n",
            "Leptokurtic kurtosis\n",
            "column name stock_distributed2\n",
            "Column kurt: 200.65260342897787\n",
            "\n",
            "\n",
            "None\n"
          ],
          "name": "stdout"
        }
      ]
    },
    {
      "cell_type": "markdown",
      "metadata": {
        "id": "_Qde07TniKWc"
      },
      "source": [
        "#### **CHECKING THE NUMBER OF UNIQUE VALUES**"
      ]
    },
    {
      "cell_type": "code",
      "metadata": {
        "colab": {
          "base_uri": "https://localhost:8080/"
        },
        "id": "nSPB46lThfMF",
        "outputId": "dac1e198-cc05-4908-e589-4c0baf905526"
      },
      "source": [
        "# Finding the unique values in our district column\n",
        "\n",
        "df['district'].nunique()"
      ],
      "execution_count": null,
      "outputs": [
        {
          "output_type": "execute_result",
          "data": {
            "text/plain": [
              "80"
            ]
          },
          "metadata": {
            "tags": []
          },
          "execution_count": 40
        }
      ]
    },
    {
      "cell_type": "code",
      "metadata": {
        "colab": {
          "base_uri": "https://localhost:8080/"
        },
        "id": "M3A6Gerein-Z",
        "outputId": "05d50d6f-0182-4f51-ed6c-38641ee51d15"
      },
      "source": [
        "# Finding the unique values in our regions column\n",
        "\n",
        "df['region'].nunique()"
      ],
      "execution_count": null,
      "outputs": [
        {
          "output_type": "execute_result",
          "data": {
            "text/plain": [
              "20"
            ]
          },
          "metadata": {
            "tags": []
          },
          "execution_count": 41
        }
      ]
    },
    {
      "cell_type": "code",
      "metadata": {
        "id": "7fpQiIrD6Mop",
        "colab": {
          "base_uri": "https://localhost:8080/"
        },
        "outputId": "bc108b2d-1288-45bc-c6f6-bcbf2a7c5120"
      },
      "source": [
        "df.columns"
      ],
      "execution_count": null,
      "outputs": [
        {
          "output_type": "execute_result",
          "data": {
            "text/plain": [
              "Index(['product_type', 'site_code', 'site_type', 'year', 'month', 'region',\n",
              "       'district', 'stock_initial', 'stock_received', 'stock_adjustment',\n",
              "       'stock_end', 'average_monthly_consumption', 'stock_ordered',\n",
              "       'stock_distributed2'],\n",
              "      dtype='object')"
            ]
          },
          "metadata": {
            "tags": []
          },
          "execution_count": 42
        }
      ]
    },
    {
      "cell_type": "code",
      "metadata": {
        "colab": {
          "base_uri": "https://localhost:8080/"
        },
        "id": "nIVSJO2bi3VD",
        "outputId": "7162385e-b0b6-4ee6-a5c0-b4de464d86f0"
      },
      "source": [
        "df['product_type'].unique()"
      ],
      "execution_count": null,
      "outputs": [
        {
          "output_type": "execute_result",
          "data": {
            "text/plain": [
              "array(['Female Condom', 'Male Condom', 'E-Pill', 'Jadelle implant',\n",
              "       'Implanon implant', 'Sayana press', 'Depo provera', 'Noristerat',\n",
              "       'Intrauterine Device ', 'Microgynon (pill)', 'Microlut (pill)'],\n",
              "      dtype=object)"
            ]
          },
          "metadata": {
            "tags": []
          },
          "execution_count": 43
        }
      ]
    },
    {
      "cell_type": "code",
      "metadata": {
        "colab": {
          "base_uri": "https://localhost:8080/"
        },
        "id": "yzDBiGZfi7tN",
        "outputId": "4b2e3046-fcda-4848-8998-44b9279e2954"
      },
      "source": [
        "df['site_code'].nunique()"
      ],
      "execution_count": null,
      "outputs": [
        {
          "output_type": "execute_result",
          "data": {
            "text/plain": [
              "155"
            ]
          },
          "metadata": {
            "tags": []
          },
          "execution_count": 44
        }
      ]
    },
    {
      "cell_type": "markdown",
      "metadata": {
        "id": "-0UTPKZSpend"
      },
      "source": [
        "#### **COUNTPLOTS**"
      ]
    },
    {
      "cell_type": "code",
      "metadata": {
        "colab": {
          "base_uri": "https://localhost:8080/",
          "height": 403
        },
        "id": "gJZDABbtpeoQ",
        "outputId": "8332eabb-d955-4691-979d-43ecc5b28d89"
      },
      "source": [
        "# Product Type\n",
        "sns.countplot(df['product_type'])\n",
        "plt.xticks(rotation = 90)\n",
        "plt.title(\"Count plots of Products\")"
      ],
      "execution_count": null,
      "outputs": [
        {
          "output_type": "execute_result",
          "data": {
            "text/plain": [
              "Text(0.5, 1.0, 'Count plots of Products')"
            ]
          },
          "metadata": {
            "tags": []
          },
          "execution_count": 45
        },
        {
          "output_type": "display_data",
          "data": {
            "image/png": "[encoded data removed]",
            "text/plain": [
              "<Figure size 432x288 with 1 Axes>"
            ]
          },
          "metadata": {
            "tags": [],
            "needs_background": "light"
          }
        }
      ]
    },
    {
      "cell_type": "code",
      "metadata": {
        "colab": {
          "base_uri": "https://localhost:8080/",
          "height": 313
        },
        "id": "lE9SL9cxhecy",
        "outputId": "a3d172bc-b61d-4953-9373-4f7d9915e87c"
      },
      "source": [
        "#SITE TYPE\n",
        "sns.countplot(df['site_type'])\n",
        "plt.title(\"Count plots of Site Types\")"
      ],
      "execution_count": null,
      "outputs": [
        {
          "output_type": "execute_result",
          "data": {
            "text/plain": [
              "Text(0.5, 1.0, 'Count plots of Site Types')"
            ]
          },
          "metadata": {
            "tags": []
          },
          "execution_count": 46
        },
        {
          "output_type": "display_data",
          "data": {
            "image/png": "[encoded data removed]",
            "text/plain": [
              "<Figure size 432x288 with 1 Axes>"
            ]
          },
          "metadata": {
            "tags": [],
            "needs_background": "light"
          }
        }
      ]
    },
    {
      "cell_type": "markdown",
      "metadata": {
        "id": "oyeDSdlMh_Wf"
      },
      "source": [
        "**INSIGHTS**\n",
        "\n",
        "* The most common contraceptives used are **Depo Provera** followed by **Microgynon**.\n",
        "* The least used contraceptive is **Sayana Press** probably because it is new in the market.\n",
        "* The most common site type which denotes delivery location is **Hospitals**."
      ]
    },
    {
      "cell_type": "markdown",
      "metadata": {
        "id": "H-Tf7CR_4Rl8"
      },
      "source": [
        "### **BIVARIATE DATA ANALYSIS**"
      ]
    },
    {
      "cell_type": "markdown",
      "metadata": {
        "id": "5OuPNooxGTNy"
      },
      "source": [
        "#### **HEAT MAPS**"
      ]
    },
    {
      "cell_type": "code",
      "metadata": {
        "colab": {
          "base_uri": "https://localhost:8080/",
          "height": 296
        },
        "id": "uTrO1jAbtKEy",
        "outputId": "d3b9a68d-8580-4b22-a66c-abded85be968"
      },
      "source": [
        "# Plotting a pivot Table to visualize the stock distributed across the years and months\n",
        "\n",
        "pt= df.pivot_table(index='month',columns='year',values='stock_distributed2')\n",
        "sns.heatmap(pt, linecolor='white',linewidths=2)"
      ],
      "execution_count": null,
      "outputs": [
        {
          "output_type": "execute_result",
          "data": {
            "text/plain": [
              "<matplotlib.axes._subplots.AxesSubplot at 0x7f89038cddd0>"
            ]
          },
          "metadata": {
            "tags": []
          },
          "execution_count": 47
        },
        {
          "output_type": "display_data",
          "data": {
            "image/png": "[encoded data removed]",
            "text/plain": [
              "<Figure size 432x288 with 2 Axes>"
            ]
          },
          "metadata": {
            "tags": [],
            "needs_background": "light"
          }
        }
      ]
    },
    {
      "cell_type": "code",
      "metadata": {
        "colab": {
          "base_uri": "https://localhost:8080/",
          "height": 595
        },
        "id": "j5MyKyFHGJ5c",
        "outputId": "89e49c92-02d1-4793-8a07-3abc410551cd"
      },
      "source": [
        "# Plotting a heat map to show correlation\n",
        "\n",
        "mask = np.zeros_like(df.corr())\n",
        "mask[np.triu_indices_from(mask)] = True\n",
        "with sns.axes_style(\"white\"):\n",
        "    f, ax = plt.subplots(figsize=(20,8))\n",
        "    ax = sns.heatmap(df.corr(),\n",
        "mask=mask,annot=True,cmap=\"YlGnBu\")"
      ],
      "execution_count": null,
      "outputs": [
        {
          "output_type": "display_data",
          "data": {
            "image/png": "[encoded data removed]",
            "text/plain": [
              "<Figure size 1440x576 with 2 Axes>"
            ]
          },
          "metadata": {
            "tags": []
          }
        }
      ]
    },
    {
      "cell_type": "markdown",
      "metadata": {
        "id": "fIJlotGTM87N"
      },
      "source": [
        "#### **SCATTER PLOTS**"
      ]
    },
    {
      "cell_type": "code",
      "metadata": {
        "colab": {
          "base_uri": "https://localhost:8080/",
          "height": 312
        },
        "id": "B-iqOkBmMc6X",
        "outputId": "b221e19f-e3cd-4c25-b559-72db4f874f0c"
      },
      "source": [
        "# Plotting scatter plots to show the relationship between variables\n",
        "\n",
        "plt.scatter(df['average_monthly_consumption'], df['stock_distributed2'])\n",
        "plt.title('Average Monthly consumption vs Stock Distributed')\n",
        "plt.xlabel('Average monthly consumption')\n",
        "plt.ylabel('Stock Distributed')"
      ],
      "execution_count": null,
      "outputs": [
        {
          "output_type": "execute_result",
          "data": {
            "text/plain": [
              "Text(0, 0.5, 'Stock Distributed')"
            ]
          },
          "metadata": {
            "tags": []
          },
          "execution_count": 49
        },
        {
          "output_type": "display_data",
          "data": {
            "image/png": "[encoded data removed]",
            "text/plain": [
              "<Figure size 432x288 with 1 Axes>"
            ]
          },
          "metadata": {
            "tags": [],
            "needs_background": "light"
          }
        }
      ]
    },
    {
      "cell_type": "code",
      "metadata": {
        "colab": {
          "base_uri": "https://localhost:8080/",
          "height": 312
        },
        "id": "N3O1PNJ3OucB",
        "outputId": "9e293543-b4d6-4a10-e889-7305fb6ec53e"
      },
      "source": [
        "plt.scatter(df['stock_initial'], df['stock_end'])\n",
        "plt.title('Stock Initial vs Stock End')\n",
        "plt.ylabel('Stock End')\n",
        "plt.xlabel('Stock Initial')"
      ],
      "execution_count": null,
      "outputs": [
        {
          "output_type": "execute_result",
          "data": {
            "text/plain": [
              "Text(0.5, 0, 'Stock Initial')"
            ]
          },
          "metadata": {
            "tags": []
          },
          "execution_count": 50
        },
        {
          "output_type": "display_data",
          "data": {
            "image/png": "[encoded data removed]",
            "text/plain": [
              "<Figure size 432x288 with 1 Axes>"
            ]
          },
          "metadata": {
            "tags": [],
            "needs_background": "light"
          }
        }
      ]
    },
    {
      "cell_type": "markdown",
      "metadata": {
        "id": "UeIcXSX2lM0v"
      },
      "source": [
        "These indicate there is a high correlation between **average monthly consumption** and **stock distributed**. Also, the **stock initial** and **stock end** variables have a high correlation."
      ]
    },
    {
      "cell_type": "markdown",
      "metadata": {
        "id": "52B7e_a_2n1-"
      },
      "source": [
        "### **TIME SERIES ANALYSIS**"
      ]
    },
    {
      "cell_type": "markdown",
      "metadata": {
        "id": "kSN00_J1mTZv"
      },
      "source": [
        "#### **LINE PLOTS**"
      ]
    },
    {
      "cell_type": "code",
      "metadata": {
        "colab": {
          "base_uri": "https://localhost:8080/",
          "height": 295
        },
        "id": "J89hJ6EFljyO",
        "outputId": "380e4b98-aadd-4b46-f123-58d5d00cd9a8"
      },
      "source": [
        "# Average stock distributed per month\n",
        "g = df.groupby('month')['stock_distributed2'].mean().reset_index(name = 'average stock distributed per month')\n",
        "sns.lineplot(x = 'month', data = g, y='average stock distributed per month')\n",
        "plt.title('Average Stock Distributed per Month')\n",
        "plt.show()"
      ],
      "execution_count": null,
      "outputs": [
        {
          "output_type": "display_data",
          "data": {
            "image/png": "[encoded data removed]",
            "text/plain": [
              "<Figure size 432x288 with 1 Axes>"
            ]
          },
          "metadata": {
            "tags": [],
            "needs_background": "light"
          }
        }
      ]
    },
    {
      "cell_type": "code",
      "metadata": {
        "colab": {
          "base_uri": "https://localhost:8080/",
          "height": 295
        },
        "id": "CHYaSOD2lz6W",
        "outputId": "baf090a0-b99b-48b2-ca22-bdd31dc08758"
      },
      "source": [
        "# Average stock distributed per year\n",
        "j = df.groupby('year')['stock_distributed2'].mean().reset_index(name = 'average stock distributed per year')\n",
        "sns.lineplot(x = 'year', data = j, y='average stock distributed per year')\n",
        "plt.title('Average Stock Distributed per Year')\n",
        "plt.show()"
      ],
      "execution_count": null,
      "outputs": [
        {
          "output_type": "display_data",
          "data": {
            "image/png": "[encoded data removed]",
            "text/plain": [
              "<Figure size 432x288 with 1 Axes>"
            ]
          },
          "metadata": {
            "tags": [],
            "needs_background": "light"
          }
        }
      ]
    },
    {
      "cell_type": "code",
      "metadata": {
        "colab": {
          "base_uri": "https://localhost:8080/",
          "height": 410
        },
        "id": "eACI9iISovU3",
        "outputId": "52378ee2-73d1-411f-d78e-33caba2455ec"
      },
      "source": [
        "# Monthly Data\n",
        "monthly_data = df.groupby('month').mean()[['stock_initial', 'stock_received', 'stock_adjustment', 'stock_end','average_monthly_consumption', 'stock_ordered', 'stock_distributed2']]\n",
        "sns.set(rc={'figure.figsize':(12,6)})\n",
        "monthly_data.plot.line()\n",
        "plt.title('Trend over a year')\n",
        "plt.legend(bbox_to_anchor=(1, 1), loc=2, borderaxespad=0.)\n",
        "plt.show()\n"
      ],
      "execution_count": null,
      "outputs": [
        {
          "output_type": "display_data",
          "data": {
            "image/png": "[encoded data removed]",
            "text/plain": [
              "<Figure size 864x432 with 1 Axes>"
            ]
          },
          "metadata": {
            "tags": []
          }
        }
      ]
    },
    {
      "cell_type": "code",
      "metadata": {
        "colab": {
          "base_uri": "https://localhost:8080/",
          "height": 655
        },
        "id": "biJilv0yqVyo",
        "outputId": "3602b22e-e05e-4de9-9071-1a4f51fa1f46"
      },
      "source": [
        "aug = df[df['month'] == 8]\n",
        "aug"
      ],
      "execution_count": null,
      "outputs": [
        {
          "output_type": "execute_result",
          "data": {
            "text/html": [
              "<div>\n",
              "<style scoped>\n",
              "    .dataframe tbody tr th:only-of-type {\n",
              "        vertical-align: middle;\n",
              "    }\n",
              "\n",
              "    .dataframe tbody tr th {\n",
              "        vertical-align: top;\n",
              "    }\n",
              "\n",
              "    .dataframe thead th {\n",
              "        text-align: right;\n",
              "    }\n",
              "</style>\n",
              "<table border=\"1\" class=\"dataframe\">\n",
              "  <thead>\n",
              "    <tr style=\"text-align: right;\">\n",
              "      <th></th>\n",
              "      <th>product_type</th>\n",
              "      <th>site_code</th>\n",
              "      <th>site_type</th>\n",
              "      <th>year</th>\n",
              "      <th>month</th>\n",
              "      <th>region</th>\n",
              "      <th>district</th>\n",
              "      <th>stock_initial</th>\n",
              "      <th>stock_received</th>\n",
              "      <th>stock_adjustment</th>\n",
              "      <th>stock_end</th>\n",
              "      <th>average_monthly_consumption</th>\n",
              "      <th>stock_ordered</th>\n",
              "      <th>stock_distributed2</th>\n",
              "    </tr>\n",
              "  </thead>\n",
              "  <tbody>\n",
              "    <tr>\n",
              "      <th>8</th>\n",
              "      <td>Female Condom</td>\n",
              "      <td>C2002</td>\n",
              "      <td>Hospital</td>\n",
              "      <td>2017.0</td>\n",
              "      <td>8.0</td>\n",
              "      <td>MARAHOUE</td>\n",
              "      <td>BOUAFLE</td>\n",
              "      <td>0.0</td>\n",
              "      <td>0.0</td>\n",
              "      <td>0.0</td>\n",
              "      <td>0.0</td>\n",
              "      <td>0.0</td>\n",
              "      <td>0.0</td>\n",
              "      <td>0.0</td>\n",
              "    </tr>\n",
              "    <tr>\n",
              "      <th>21</th>\n",
              "      <td>Female Condom</td>\n",
              "      <td>C5002</td>\n",
              "      <td>Hospital</td>\n",
              "      <td>2016.0</td>\n",
              "      <td>8.0</td>\n",
              "      <td>CAVALLY-GUEMON</td>\n",
              "      <td>GUIGLO</td>\n",
              "      <td>0.0</td>\n",
              "      <td>0.0</td>\n",
              "      <td>0.0</td>\n",
              "      <td>0.0</td>\n",
              "      <td>0.0</td>\n",
              "      <td>0.0</td>\n",
              "      <td>0.0</td>\n",
              "    </tr>\n",
              "    <tr>\n",
              "      <th>40</th>\n",
              "      <td>Female Condom</td>\n",
              "      <td>C2008</td>\n",
              "      <td>Hospital</td>\n",
              "      <td>2018.0</td>\n",
              "      <td>8.0</td>\n",
              "      <td>WORODOUGOU-BERE</td>\n",
              "      <td>SEGUELA</td>\n",
              "      <td>0.0</td>\n",
              "      <td>0.0</td>\n",
              "      <td>0.0</td>\n",
              "      <td>0.0</td>\n",
              "      <td>0.0</td>\n",
              "      <td>0.0</td>\n",
              "      <td>0.0</td>\n",
              "    </tr>\n",
              "    <tr>\n",
              "      <th>52</th>\n",
              "      <td>Female Condom</td>\n",
              "      <td>C2008</td>\n",
              "      <td>Hospital</td>\n",
              "      <td>2017.0</td>\n",
              "      <td>8.0</td>\n",
              "      <td>WORODOUGOU-BERE</td>\n",
              "      <td>SEGUELA</td>\n",
              "      <td>0.0</td>\n",
              "      <td>0.0</td>\n",
              "      <td>0.0</td>\n",
              "      <td>0.0</td>\n",
              "      <td>0.0</td>\n",
              "      <td>0.0</td>\n",
              "      <td>0.0</td>\n",
              "    </tr>\n",
              "    <tr>\n",
              "      <th>63</th>\n",
              "      <td>Female Condom</td>\n",
              "      <td>C2008</td>\n",
              "      <td>Hospital</td>\n",
              "      <td>2016.0</td>\n",
              "      <td>8.0</td>\n",
              "      <td>WORODOUGOU-BERE</td>\n",
              "      <td>SEGUELA</td>\n",
              "      <td>0.0</td>\n",
              "      <td>0.0</td>\n",
              "      <td>0.0</td>\n",
              "      <td>0.0</td>\n",
              "      <td>0.0</td>\n",
              "      <td>0.0</td>\n",
              "      <td>0.0</td>\n",
              "    </tr>\n",
              "    <tr>\n",
              "      <th>...</th>\n",
              "      <td>...</td>\n",
              "      <td>...</td>\n",
              "      <td>...</td>\n",
              "      <td>...</td>\n",
              "      <td>...</td>\n",
              "      <td>...</td>\n",
              "      <td>...</td>\n",
              "      <td>...</td>\n",
              "      <td>...</td>\n",
              "      <td>...</td>\n",
              "      <td>...</td>\n",
              "      <td>...</td>\n",
              "      <td>...</td>\n",
              "      <td>...</td>\n",
              "    </tr>\n",
              "    <tr>\n",
              "      <th>35686</th>\n",
              "      <td>Microlut (pill)</td>\n",
              "      <td>C1101</td>\n",
              "      <td>Hospital</td>\n",
              "      <td>2017.0</td>\n",
              "      <td>8.0</td>\n",
              "      <td>ABIDJAN 2</td>\n",
              "      <td>KOUMASSI-PORT BOUET-VRIDI</td>\n",
              "      <td>19.0</td>\n",
              "      <td>0.0</td>\n",
              "      <td>0.0</td>\n",
              "      <td>16.0</td>\n",
              "      <td>1.0</td>\n",
              "      <td>7.0</td>\n",
              "      <td>3.0</td>\n",
              "    </tr>\n",
              "    <tr>\n",
              "      <th>35693</th>\n",
              "      <td>Microlut (pill)</td>\n",
              "      <td>C1101</td>\n",
              "      <td>Hospital</td>\n",
              "      <td>2016.0</td>\n",
              "      <td>8.0</td>\n",
              "      <td>ABIDJAN 2</td>\n",
              "      <td>KOUMASSI-PORT BOUET-VRIDI</td>\n",
              "      <td>0.0</td>\n",
              "      <td>0.0</td>\n",
              "      <td>0.0</td>\n",
              "      <td>0.0</td>\n",
              "      <td>0.0</td>\n",
              "      <td>0.0</td>\n",
              "      <td>0.0</td>\n",
              "    </tr>\n",
              "    <tr>\n",
              "      <th>35709</th>\n",
              "      <td>Microlut (pill)</td>\n",
              "      <td>C1106</td>\n",
              "      <td>University Hospital/National Institute</td>\n",
              "      <td>2018.0</td>\n",
              "      <td>8.0</td>\n",
              "      <td>ABIDJAN 1-GRANDS PONTS</td>\n",
              "      <td>ADJAME-PLATEAU-ATTECOUBE</td>\n",
              "      <td>63.0</td>\n",
              "      <td>0.0</td>\n",
              "      <td>-26.0</td>\n",
              "      <td>13.0</td>\n",
              "      <td>11.0</td>\n",
              "      <td>0.0</td>\n",
              "      <td>24.0</td>\n",
              "    </tr>\n",
              "    <tr>\n",
              "      <th>35732</th>\n",
              "      <td>Microlut (pill)</td>\n",
              "      <td>C1144</td>\n",
              "      <td>Health Center</td>\n",
              "      <td>2018.0</td>\n",
              "      <td>8.0</td>\n",
              "      <td>ABIDJAN 2</td>\n",
              "      <td>COCODY-BINGERVILLE</td>\n",
              "      <td>47.0</td>\n",
              "      <td>0.0</td>\n",
              "      <td>0.0</td>\n",
              "      <td>43.0</td>\n",
              "      <td>2.0</td>\n",
              "      <td>0.0</td>\n",
              "      <td>4.0</td>\n",
              "    </tr>\n",
              "    <tr>\n",
              "      <th>35744</th>\n",
              "      <td>Microlut (pill)</td>\n",
              "      <td>C1144</td>\n",
              "      <td>Health Center</td>\n",
              "      <td>2017.0</td>\n",
              "      <td>8.0</td>\n",
              "      <td>ABIDJAN 2</td>\n",
              "      <td>COCODY-BINGERVILLE</td>\n",
              "      <td>80.0</td>\n",
              "      <td>0.0</td>\n",
              "      <td>0.0</td>\n",
              "      <td>79.0</td>\n",
              "      <td>2.0</td>\n",
              "      <td>0.0</td>\n",
              "      <td>1.0</td>\n",
              "    </tr>\n",
              "  </tbody>\n",
              "</table>\n",
              "<p>2355 rows × 14 columns</p>\n",
              "</div>"
            ],
            "text/plain": [
              "          product_type site_code  ... stock_ordered  stock_distributed2\n",
              "8        Female Condom     C2002  ...           0.0                 0.0\n",
              "21       Female Condom     C5002  ...           0.0                 0.0\n",
              "40       Female Condom     C2008  ...           0.0                 0.0\n",
              "52       Female Condom     C2008  ...           0.0                 0.0\n",
              "63       Female Condom     C2008  ...           0.0                 0.0\n",
              "...                ...       ...  ...           ...                 ...\n",
              "35686  Microlut (pill)     C1101  ...           7.0                 3.0\n",
              "35693  Microlut (pill)     C1101  ...           0.0                 0.0\n",
              "35709  Microlut (pill)     C1106  ...           0.0                24.0\n",
              "35732  Microlut (pill)     C1144  ...           0.0                 4.0\n",
              "35744  Microlut (pill)     C1144  ...           0.0                 1.0\n",
              "\n",
              "[2355 rows x 14 columns]"
            ]
          },
          "metadata": {
            "tags": []
          },
          "execution_count": 54
        }
      ]
    },
    {
      "cell_type": "code",
      "metadata": {
        "colab": {
          "base_uri": "https://localhost:8080/"
        },
        "id": "Wbn7fkvWsaZI",
        "outputId": "03416454-01d2-4d65-ad1c-472ac967f46b"
      },
      "source": [
        "aug['stock_distributed2'].value_counts()"
      ],
      "execution_count": null,
      "outputs": [
        {
          "output_type": "execute_result",
          "data": {
            "text/plain": [
              "0.0       1125\n",
              "1.0        110\n",
              "3.0         84\n",
              "2.0         77\n",
              "5.0         68\n",
              "          ... \n",
              "210.0        1\n",
              "202.0        1\n",
              "217.0        1\n",
              "255.0        1\n",
              "1000.0       1\n",
              "Name: stock_distributed2, Length: 132, dtype: int64"
            ]
          },
          "metadata": {
            "tags": []
          },
          "execution_count": 55
        }
      ]
    },
    {
      "cell_type": "code",
      "metadata": {
        "colab": {
          "base_uri": "https://localhost:8080/",
          "height": 410
        },
        "id": "cOWz1SAF5eLl",
        "outputId": "fde4263b-ee8c-4ac1-9672-092985e436b5"
      },
      "source": [
        "# Line plot for dispensed products over the years\n",
        "dispensed = annual.groupby('year').mean()[['iud_number_dispensed','implant_number_dispensed','injection2_number_dispensed','injection3_number_dispensed','pill_number_dispensed']]\n",
        "sns.set(rc={'figure.figsize':(12,6)})\n",
        "dispensed.plot.line()\n",
        "plt.title('Average dispensed products over the years (2016-2018)')\n",
        "plt.legend(bbox_to_anchor=(1, 1), loc=2, borderaxespad=0.)\n",
        "plt.show()\n"
      ],
      "execution_count": null,
      "outputs": [
        {
          "output_type": "display_data",
          "data": {
            "image/png": "[encoded data removed]",
            "text/plain": [
              "<Figure size 864x432 with 1 Axes>"
            ]
          },
          "metadata": {
            "tags": []
          }
        }
      ]
    },
    {
      "cell_type": "code",
      "metadata": {
        "colab": {
          "base_uri": "https://localhost:8080/",
          "height": 410
        },
        "id": "bSlbe1U8nzCn",
        "outputId": "04d8adc3-5b40-4194-ef71-3a8f41a8168d"
      },
      "source": [
        "# Line plot for dispensed products over the year 2019\n",
        "dispensed_2019 = monthly.groupby('month').mean()[['pill_number_dispensed','implant_number_dispensed','injection2_number_dispensed','injection3_number_dispensed','iud_number_dispensed']]\n",
        "sns.set(rc={'figure.figsize':(12,6)})\n",
        "dispensed_2019.plot.line()\n",
        "plt.title('Average dispensed products over the year 2019')\n",
        "plt.legend(bbox_to_anchor=(1, 1), loc=2, borderaxespad=0.)\n",
        "plt.show()"
      ],
      "execution_count": null,
      "outputs": [
        {
          "output_type": "display_data",
          "data": {
            "image/png": "[encoded data removed]",
            "text/plain": [
              "<Figure size 864x432 with 1 Axes>"
            ]
          },
          "metadata": {
            "tags": []
          }
        }
      ]
    }
  ]
}